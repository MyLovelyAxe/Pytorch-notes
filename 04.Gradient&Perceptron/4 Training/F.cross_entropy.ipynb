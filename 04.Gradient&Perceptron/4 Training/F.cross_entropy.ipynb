{
 "cells": [
  {
   "cell_type": "code",
   "execution_count": 1,
   "id": "93aaee68",
   "metadata": {},
   "outputs": [],
   "source": [
    "import torch\n",
    "import torch.nn.functional as F\n",
    "import numpy as np"
   ]
  },
  {
   "cell_type": "code",
   "execution_count": 60,
   "id": "8e657087",
   "metadata": {},
   "outputs": [
    {
     "name": "stdout",
     "output_type": "stream",
     "text": [
      "tensor(56.3692)\n",
      "tensor(56.3692)\n"
     ]
    }
   ],
   "source": [
    "# input x:\n",
    "# e.g. 1 pic from MNIST dataset, which has shape of (28,28), flattened as (1,28*28)\n",
    "x = torch.randn(1,28*28)\n",
    "# weight w:\n",
    "# according to convention of pytorch, parameter matrix are defined as:\n",
    "# [channel_out, channel_in]\n",
    "w = torch.randn(10,28*28)\n",
    "# bias b\n",
    "b = torch.randn(1,10)\n",
    "# logits: output before activation function\n",
    "# logits shape: x@w.t() + b = (1,784)@(784,10) + (1,10) = (1,10)\n",
    "logits = x@w.t() + b\n",
    "# target t\n",
    "t = torch.tensor([3])\n",
    "\n",
    "# method 1:\n",
    "# F.cross_entropy() comprises of: softmax + cross entropy loss\n",
    "# so usually if we apply CEL as error function and call F.cross_entropy()\n",
    "# we don't need to extra do softmax, just input 'logits'\n",
    "CEL = F.cross_entropy(logits, t)\n",
    "print(CEL)\n",
    "\n",
    "# method2 :\n",
    "# manually apply softmax to squeeze logits into [0,1]\n",
    "# and according to formular of cross entropy loss to apply it: CEL = -sum(p_i * log(p_i))\n",
    "pred = F.softmax(logits, dim=1)\n",
    "pred_log = torch.log(pred)\n",
    "# F.nll_loss(input, target): The negative log likelihood loss\n",
    "# https://pytorch.org/docs/stable/generated/torch.nn.NLLLoss.html#torch.nn.NLLLoss\n",
    "# so input should be values which are alreay taken log-operation\n",
    "manul_cel = F.nll_loss(pred_log, t)\n",
    "print(manul_cel)"
   ]
  },
  {
   "cell_type": "code",
   "execution_count": null,
   "id": "3cdbf3f3",
   "metadata": {},
   "outputs": [],
   "source": []
  }
 ],
 "metadata": {
  "kernelspec": {
   "display_name": "Python 3 (ipykernel)",
   "language": "python",
   "name": "python3"
  },
  "language_info": {
   "codemirror_mode": {
    "name": "ipython",
    "version": 3
   },
   "file_extension": ".py",
   "mimetype": "text/x-python",
   "name": "python",
   "nbconvert_exporter": "python",
   "pygments_lexer": "ipython3",
   "version": "3.9.12"
  }
 },
 "nbformat": 4,
 "nbformat_minor": 5
}
