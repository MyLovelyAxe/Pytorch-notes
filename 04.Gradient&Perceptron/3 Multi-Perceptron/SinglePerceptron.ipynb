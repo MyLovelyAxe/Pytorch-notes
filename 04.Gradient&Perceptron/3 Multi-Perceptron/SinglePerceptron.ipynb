{
 "cells": [
  {
   "cell_type": "code",
   "execution_count": 2,
   "id": "df014344",
   "metadata": {},
   "outputs": [],
   "source": [
    "'''Single Perceptron'''\n",
    "import torch\n",
    "import torch.nn.functional as F"
   ]
  },
  {
   "cell_type": "markdown",
   "id": "6b90c4df",
   "metadata": {},
   "source": [
    "#### Single Perceptron\n",
    "<font size = 2>\n",
    "    \n",
    "**Linear Single Perceptron** is linear sum of products of input **$x$** and weight **$w$** in single layer.\n",
    "    \n",
    "<div>\n",
    "<img src=\"SinglePerceptron_1.png\" style=\"zoom:40%\"/>\n",
    "</div>\n",
    "    \n",
    "There are some regulation about the tokens of variables. The upper script means current layer. The lower scrip means current index of node. E.g. **$x^{0}_{1}$** represents the 1st node in 0th layer. The situation of weight **$w$** is a little different. Lower left script means the index of linked node from previous layer, and the lower right script means index of linked node from current layer. E.g. **$w^{1}_{10}$** represents the weight of 1st layer linking 1st node of previous layer and 0th node of current layer. The activation function/output is shown as **$O^{1}_{0}$** with same regulation. **$E$** means error between the output **$O^{1}_{0}$** and label **$t$**, which MSE in this linear case:\n",
    "\n",
    "$$O^{1}_{0} =\\sigma \\left( \\sum^{N}_{j = 0} {w^{1}_{j0} x^{0}_{j}} \\right)$$\n",
    "$$E = \\sum^{M}_{i = 0} \\frac{1}{2} (O^{1}_{i} - t) ^ 2$$\n",
    "\n",
    "However this case has only one output, so we can simplify the **$E$** as:\n",
    "\n",
    "$$E = \\frac{1}{2} (O^{1}_{0} - t) ^ 2$$"
   ]
  },
  {
   "cell_type": "markdown",
   "id": "d38be689",
   "metadata": {},
   "source": [
    "#### Gradient Decreasing Update\n",
    "<font size = 2>\n",
    "    \n",
    "The update of weights within neural network uses gradient decreasing update:\n",
    "\n",
    "$$w^{(\\tau + 1)} = w^{(\\tau)} - \\eta \\frac{\\partial{E}}{\\partial{w^{(\\tau)}}}$$\n",
    "    \n",
    "where **$w^{(\\tau)}$** is current weight, **$w^{(\\tau + 1)}$** is updated weight, **$E$** is error and **$\\eta$** is learning rate."
   ]
  },
  {
   "cell_type": "markdown",
   "id": "77aba7d5",
   "metadata": {},
   "source": [
    "#### Derivative of Single Perceptron\n",
    "<font size = 2>\n",
    "\n",
    "So we need gradients about current weight **$w^{(\\tau)}$** first to update. According to linear single perceptron model, the gradients can be derived as:\n",
    "\n",
    "$$\n",
    "\\begin{equation}\n",
    "\\begin{aligned}\n",
    "\\frac{\\partial{E}}{\\partial{w^{1}_{j0}}} &= \\frac{\\partial{E}}{\\partial{O^{1}_{0}}} \\frac{\\partial{O^{1}_{0}}}{\\partial{w^{1}_{j0}}}\\\\\n",
    "&= \\frac{\\partial{E}}{\\partial{\\sigma (x^{1}_{0})}} \\frac{\\partial{\\sigma (x^{1}_{0})}}{\\partial{w^{1}_{j0}}} \\\\\n",
    "&= (O^{1}_{0} - t) \\frac{\\partial{\\sigma (x^{1}_{0})}}{\\partial{x^{1}_{0}}} \\frac{\\partial{x^{1}_{0}}}{\\partial{w^{1}_{j0}}} \\\\\n",
    "&= (O^{1}_{0} - t) O^{1}_{0} (O^{1}_{0} - 1) \\frac{\\partial{x^{1}_{0}}}{\\partial{w^{1}_{j0}}} \\\\\n",
    "&= (O^{1}_{0} - t) O^{1}_{0} (O^{1}_{0} - 1) \\frac{\\partial{\\sum x^{0}_{j} w^{1}_{j0}}}{\\partial{w^{1}_{j0}}} \\\\\n",
    "&= (O^{1}_{0} - t) O^{1}_{0} (O^{1}_{0} - 1) x^{0}_{j}\n",
    "\\end{aligned}\n",
    "\\end{equation}\n",
    "$$\n",
    "\n",
    "Recap:\n",
    "$$\\frac{\\partial{\\sigma (x)}}{\\partial{x}} = \\sigma (x) (1 - \\sigma (x))$$"
   ]
  },
  {
   "cell_type": "code",
   "execution_count": 3,
   "id": "00c4ee9e",
   "metadata": {},
   "outputs": [
    {
     "name": "stdout",
     "output_type": "stream",
     "text": [
      "Output is: tensor([[0.7573]], grad_fn=<SigmoidBackward0>) torch.FloatTensor torch.Size([1, 1])\n",
      "The gradients of Error w.r.t weights are: tensor([[ 0.0088,  0.0459, -0.0724, -0.0967, -0.1758]])\n"
     ]
    }
   ],
   "source": [
    "# input x: 1 sample point with dimension of 5D\n",
    "# e.g. a person with features: age, weight, height, running velocity, eyesight degree\n",
    "x = torch.randn(1,5)\n",
    "# weight w: 1 neurons with corresponding dimension 5D, which is same with input x\n",
    "# we want gradients of w-vector, so set 'requires_grad' as True\n",
    "w = torch.randn(1,5, requires_grad = True)\n",
    "# output o: x @ w.t() = [1,5] @ [5,1] = [1,1]\n",
    "o = torch.sigmoid(x@w.t())\n",
    "print('Output is:', o, o.type(), o.shape)\n",
    "# target: 1D output for each sample\n",
    "# e.g. a value to determine which classification does a person belong to:\n",
    "# whether it belongs to A-group or B-group/ C-group/ D-group/ E-group\n",
    "t = torch.ones(1,1).float()\n",
    "# generate error/loss function\n",
    "e = F.mse_loss(t, o)\n",
    "# take derivative by .backward()\n",
    "# because e has only one 'destination function', we don't need para of 'grad_tensor', i.e. selector\n",
    "e.backward(retain_graph = True)\n",
    "grad = w.grad\n",
    "print('The gradients of Error w.r.t weights are:', grad)"
   ]
  },
  {
   "cell_type": "code",
   "execution_count": null,
   "id": "2a4ee508",
   "metadata": {},
   "outputs": [],
   "source": []
  }
 ],
 "metadata": {
  "kernelspec": {
   "display_name": "Python 3 (ipykernel)",
   "language": "python",
   "name": "python3"
  },
  "language_info": {
   "codemirror_mode": {
    "name": "ipython",
    "version": 3
   },
   "file_extension": ".py",
   "mimetype": "text/x-python",
   "name": "python",
   "nbconvert_exporter": "python",
   "pygments_lexer": "ipython3",
   "version": "3.9.12"
  },
  "varInspector": {
   "cols": {
    "lenName": 16,
    "lenType": 16,
    "lenVar": 40
   },
   "kernels_config": {
    "python": {
     "delete_cmd_postfix": "",
     "delete_cmd_prefix": "del ",
     "library": "var_list.py",
     "varRefreshCmd": "print(var_dic_list())"
    },
    "r": {
     "delete_cmd_postfix": ") ",
     "delete_cmd_prefix": "rm(",
     "library": "var_list.r",
     "varRefreshCmd": "cat(var_dic_list()) "
    }
   },
   "types_to_exclude": [
    "module",
    "function",
    "builtin_function_or_method",
    "instance",
    "_Feature"
   ],
   "window_display": false
  }
 },
 "nbformat": 4,
 "nbformat_minor": 5
}
