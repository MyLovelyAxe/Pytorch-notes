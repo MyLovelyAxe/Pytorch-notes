{
 "cells": [
  {
   "cell_type": "code",
   "execution_count": 2,
   "id": "df014344",
   "metadata": {},
   "outputs": [],
   "source": [
    "'''Multiple Perceptron'''\n",
    "import torch\n",
    "import torch.nn.functional as F"
   ]
  },
  {
   "cell_type": "markdown",
   "id": "6b90c4df",
   "metadata": {},
   "source": [
    "#### Multiple Perceptron\n",
    "<font size = 2>\n",
    "    \n",
    "**Linear Single Perceptron** is linear sum of products of input **$x$** and weight **$w$** in single layer.\n",
    "    \n",
    "<div>\n",
    "<img src=\"MultiPerceptron_1.png\" style=\"zoom:40%\"/>\n",
    "</div>\n",
    "    \n",
    "There are some regulation about the tokens of variables. The upper script means current layer. The lower scrip means current index of node. E.g. **$x^{0}_{1}$** represents the 1st node in 0th layer. The situation of weight **$w$** is a little different. Lower left script means the index of linked node from previous layer, and the lower right script means index of linked node from current layer. E.g. **$w^{1}_{10}$** represents the weight of 1st layer linking 1st node of previous layer and 0th node of current layer. The activation function/output is shown as **$O^{1}_{0}$** with same regulation. **$E$** means the sum of errors between the output **$O^{1}_{k}$** and label **$t_{k}$**, which MSE in this linear case:\n",
    "\n",
    "$$O^{1}_{k} =\\sigma \\left( \\sum^{n}_{j = 0} {w^{1}_{jk} x^{0}_{j}} \\right)$$\n",
    "$$E = \\sum^{m}_{k = 0} \\frac{1}{2} (O^{1}_{k} - t_{k}) ^ 2$$"
   ]
  },
  {
   "cell_type": "markdown",
   "id": "d38be689",
   "metadata": {},
   "source": [
    "#### Gradient Decreasing Update\n",
    "<font size = 2>\n",
    "    \n",
    "The update of weights within neural network uses gradient decreasing update:\n",
    "\n",
    "$$w^{(\\tau + 1)} = w^{(\\tau)} - \\eta \\frac{\\partial{E}}{\\partial{w^{(\\tau)}}}$$\n",
    "    \n",
    "where **$w^{(\\tau)}$** is current weight, **$w^{(\\tau + 1)}$** is updated weight, **$E$** is error and **$\\eta$** is learning rate."
   ]
  },
  {
   "cell_type": "markdown",
   "id": "77aba7d5",
   "metadata": {},
   "source": [
    "#### Derivative of Multiple Perceptron\n",
    "<font size = 2>\n",
    "\n",
    "So we need gradients about current weight **$w^{(\\tau)}$** first to update. According to linear multiple perceptron model, the gradients can be derived as:\n",
    "\n",
    "$$\n",
    "\\begin{equation}\n",
    "\\begin{aligned}\n",
    "\\frac{\\partial{E}}{\\partial{w^{1}_{jk}}} &= \\frac{\\partial{E}}{\\partial{O^{1}_{k}}} \\frac{\\partial{O^{1}_{k}}}{\\partial{w^{1}_{jk}}}\\\\\n",
    "&= \\frac{\\partial{\\left( \\sum^{m}_{k = 0} \\frac{1}{2} (O^{1}_{k} - t_{k}) ^ 2 \\right)}}{\\partial{O^{1}_{k}}} \\frac{\\partial{O^{1}_{k}}}{\\partial{w^{1}_{jk}}} \\\\\n",
    "&= (O^{1}_{k} - t_{k}) \\frac{\\partial{O^{1}_{k}}}{\\partial{w^{1}_{jk}}} \\\\\n",
    "&= (O^{1}_{k} - t_{k}) \\frac{\\partial{\\sigma (x^{1}_{k})}}{\\partial{x^{1}_{k}}} \\frac{\\partial{x^{1}_{k}}}{\\partial{w^{1}_{jk}}} \\\\\n",
    "&= (O^{1}_{k} - t_{k}) O^{1}_{k} (O^{1}_{k} - 1) \\frac{\\partial{x^{1}_{k}}}{\\partial{w^{1}_{jk}}} \\\\\n",
    "&= (O^{1}_{k} - t_{k}) O^{1}_{k} (O^{1}_{k} - 1) \\frac{\\partial{\\sum x^{0}_{j} w^{1}_{jk}}}{\\partial{w^{1}_{jk}}} \\\\\n",
    "&= (O^{1}_{k} - t_{k}) O^{1}_{k} (O^{1}_{k} - 1) x^{0}_{j}\n",
    "\\end{aligned}\n",
    "\\end{equation}\n",
    "$$\n",
    "\n",
    "Recap:\n",
    "$$\\frac{\\partial{\\sigma (x)}}{\\partial{x}} = \\sigma (x) (1 - \\sigma (x))$$\n",
    "\n",
    "As we can see from the inductive process, the specific weight **$w^{1}_{jk}$** is only realted to the connection from **j-node** **$x^{0}_{j}$** of previous layer and **k-node** part **$(O^{1}_{k} - t_{k}) O^{1}_{k} (O^{1}_{k} - 1)$** of current layer. And also the corresponding part **$\\frac{1}{2} (O^{1}_{k} - t_{k}) ^ 2$** in sum of **Error** and label **$t_{k}$**."
   ]
  },
  {
   "cell_type": "code",
   "execution_count": 10,
   "id": "00c4ee9e",
   "metadata": {},
   "outputs": [
    {
     "name": "stdout",
     "output_type": "stream",
     "text": [
      "Output is: tensor([[0.1087, 0.9168, 0.2259],\n",
      "        [0.1224, 0.1651, 0.0901]], grad_fn=<SigmoidBackward0>) torch.FloatTensor torch.Size([2, 3])\n",
      "The gradients of Error w.r.t weights are: tensor([[-0.0924,  0.0375,  0.0431,  0.0051,  0.0153],\n",
      "        [-0.0562,  0.0503,  0.0045,  0.0157, -0.0096],\n",
      "        [-0.1114,  0.0267,  0.0667, -0.0024,  0.0313]])\n"
     ]
    }
   ],
   "source": [
    "# input x: 2 sample point with dimension of 5D\n",
    "# e.g. a person with features: age, weight, height, running velocity, eyesight degree\n",
    "x = torch.randn(2,5)\n",
    "# weight w: 3 neurons with corresponding dimension 5D, which is same with input x\n",
    "# we want gradients of w-vector, so set 'requires_grad' as True\n",
    "w = torch.randn(3,5, requires_grad = True)\n",
    "# output o: x @ w.t() = [2,5] @ [5,3] = [2,3]\n",
    "o = torch.sigmoid(x@w.t())\n",
    "print('Output is:', o, o.type(), o.shape)\n",
    "# target: 3D output for each sample\n",
    "# e.g. probabilities of each person about its performance: good/ medium/ bad \n",
    "t = torch.ones(2,3).float()\n",
    "# generate error/loss function\n",
    "# because mse is sum of error between labels and predictions\n",
    "# the mse 'Error' e is still with shape of 1x1, i.e. only one 'destination function'\n",
    "e = F.mse_loss(t, o)\n",
    "# take derivative by .backward()\n",
    "# because e has only one 'destination function', we don't need para of 'grad_tensor'\n",
    "# i.e. selector\n",
    "e.backward(retain_graph = True)\n",
    "grad = w.grad\n",
    "print('The gradients of Error w.r.t weights are:', grad)"
   ]
  },
  {
   "cell_type": "code",
   "execution_count": null,
   "id": "89132847",
   "metadata": {},
   "outputs": [],
   "source": []
  }
 ],
 "metadata": {
  "kernelspec": {
   "display_name": "Python 3 (ipykernel)",
   "language": "python",
   "name": "python3"
  },
  "language_info": {
   "codemirror_mode": {
    "name": "ipython",
    "version": 3
   },
   "file_extension": ".py",
   "mimetype": "text/x-python",
   "name": "python",
   "nbconvert_exporter": "python",
   "pygments_lexer": "ipython3",
   "version": "3.9.12"
  },
  "varInspector": {
   "cols": {
    "lenName": 16,
    "lenType": 16,
    "lenVar": 40
   },
   "kernels_config": {
    "python": {
     "delete_cmd_postfix": "",
     "delete_cmd_prefix": "del ",
     "library": "var_list.py",
     "varRefreshCmd": "print(var_dic_list())"
    },
    "r": {
     "delete_cmd_postfix": ") ",
     "delete_cmd_prefix": "rm(",
     "library": "var_list.r",
     "varRefreshCmd": "cat(var_dic_list()) "
    }
   },
   "types_to_exclude": [
    "module",
    "function",
    "builtin_function_or_method",
    "instance",
    "_Feature"
   ],
   "window_display": false
  }
 },
 "nbformat": 4,
 "nbformat_minor": 5
}
