{
 "cells": [
  {
   "cell_type": "markdown",
   "id": "6b90c4df",
   "metadata": {},
   "source": [
    "#### New Representations in Multi-layer Perceptron\n",
    "<font size = 2>\n",
    "    \n",
    "Now we have a look about **Linear Single Perceptron** with multiple outputs and multiple hidden layers. And still take **Sigmoid** as activation function.\n",
    "    \n",
    "<div>\n",
    "<img src=\"Backpropagation_1.png\" style=\"zoom:40%\"/>\n",
    "</div>\n",
    "    \n",
    "Now in each token, the upper capital script represents **layer**, lower scripts still represents index of nodes, as well as the double lower scripts of weight, which represents the connection of previous-layer node and current-layer node.\n",
    "    \n",
    "Gray is input layer **$I$**. Blue is hidden layer **$J$**. Orange is output layer **$K$**.\n",
    "    \n",
    "For example: \n",
    "    \n",
    "**$w^{K}_{jk}$** means the weight in current layer **$K$** connecting the **j-th** node in previous layer **$J$** and the **k-th** node in current layer **$K$**.\n",
    "\n",
    "**$O^{J}_{j}$** means the output of the **j-th** node in previous layer **$J$**.\n",
    "    \n",
    "**$O^{K}_{k}$** means the output of the **k-th** node in current layer **$K$**."
   ]
  },
  {
   "cell_type": "markdown",
   "id": "69365ba9",
   "metadata": {},
   "source": [
    "#### Output Layer\n",
    "<font size = 2>\n",
    "    \n",
    "According to the conclusion from **Multilpe Perceptron** example, we can simplify the result from single-layer multi-output perceptron:\n",
    "\n",
    "$$ \\frac{\\partial{E}}{\\partial{w^{1}_{jk}}} = (O^{1}_{k} - t_{k}) O^{1}_{k} (O^{1}_{k} - 1) x^{0}_{j} $$\n",
    "    \n",
    "with:\n",
    "\n",
    "$$\\delta^{K}_{k} = (O^{1}_{k} - t_{k}) O^{1}_{k} (O^{1}_{k} - 1)$$\n",
    "    \n",
    "into:\n",
    "    \n",
    "$$ \\frac{\\partial{E}}{\\partial{w^{1}_{jk}}} = \\delta^{K}_{k} x^{0}_{j} $$\n",
    "    \n",
    "Now we consider the situation where the current layer is layer **$K$**, the previous layer is layer **$J$**. Substitute the input **$x^{0}_{j}$** with the output from previous hidden layer **$J$**, which is **$O^{J}_{j}$**, and substitute the 1st-layer weight **$w^{1}_{jk}$** with current weight **$w^{K}_{jk}$**:\n",
    "    \n",
    " $$\\frac{\\partial{E}}{\\partial{w^{K}_{jk}}} = \\delta^{K}_{k} O^{J}_{j}$$\n",
    "    \n",
    "**$w^{K}_{jk}$** is weight that links previous layer **$J$** and current layer **$K$**.\n",
    "\n",
    "**$\\delta^{K}_{k}$** contains the information from current layer **$K$** to the end, i.e. **Error**. \n",
    "\n",
    "**$O^{J}_{j}$** is the output from previous layer **$J$**, which is taken as input of current layer **$K$**.\n",
    "\n",
    "Now if we want to calculate **$\\frac{\\partial{E}}{\\partial{w^{K}_{jk}}}$**, we only need output from previous layer **$O^{J}_{j}$** and the information to the end **$\\delta^{K}_{k}$** which can be calculated as iteration."
   ]
  },
  {
   "cell_type": "markdown",
   "id": "d844f08b",
   "metadata": {},
   "source": [
    "#### Hidden layer\n",
    "<font size = 2>\n",
    "    \n",
    "Recap the graph of multipal layer.\n",
    "\n",
    "<div>\n",
    "<img src=\"Backpropagation_1.png\" style=\"zoom:40%\"/>\n",
    "</div>\n",
    "    \n",
    "Now we want to calculate the gradient of **Error** w.r.t. weight **$w^{J}_{ij}$**. After applying backpropagation and chain rules, we can get the results(process neglected):\n",
    "    \n",
    "$$ \\frac{\\partial{E}}{\\partial{w^{J}_{ij}}} = O^{I}_{i} O^{J}_{j} (1 - O^{J}_{j}) \\sum^{m}_{k = 0} (\\delta^{K}_{k} w^{K}_{jk}) $$\n",
    "    \n",
    "$O^{I}_{i}$ is the output of **i-th** node from hidden layer **$I$**.\n",
    "\n",
    "$O^{J}_{j}$ is the output of **j-th** node from hidden layer **$J$**.\n",
    "    \n",
    "$\\sum^{m}_{k = 0} (\\delta^{K}_{k} w^{K}_{jk})$ is $\\frac{\\partial{E}}{\\partial{w^{K}_{jk}}}$, which is the gradient of **Error** w.r.t next layer's weight $w^{K}_{jk}$.\n",
    "    \n",
    "Do substitution and we can get similar form:\n",
    "\n",
    "$$ \\delta^{J}_{j} = O^{J}_{j} (1 - O^{J}_{j}) \\sum^{m}_{k = 0} (\\delta^{K}_{k} w^{K}_{jk}) $$\n",
    "    \n",
    "$$\\frac{\\partial{E}}{\\partial{w^{J}_{ij}}} = \\delta^{J}_{j} O^{I}_{i} $$"
   ]
  },
  {
   "cell_type": "markdown",
   "id": "004015ff",
   "metadata": {},
   "source": [
    "#### Conclusion\n",
    "<font size = 2>\n",
    "    \n",
    "In conclusion, we can calculate the gradients of **Error** w.r.t any weights in any layers by rules of:\n",
    "\n",
    "(1) For the weight $w^{K}_{jk}$ of an output layer $K$ node k:\n",
    "\n",
    "$$\\frac{\\partial{E}}{\\partial{w^{K}_{jk}}} = \\delta^{K}_{k} O^{J}_{j}$$\n",
    "    \n",
    "with:\n",
    "    \n",
    "$$\\delta^{K}_{k} = (O^{K}_{k} - t_{k}) O^{K}_{k} (O^{K}_{k} - 1)$$\n",
    "    \n",
    "(2) For the weight $w^{J}_{ij}$ of a hidden layer $J$ node j:\n",
    "    \n",
    "$$\\frac{\\partial{E}}{\\partial{w^{J}_{ij}}} = \\delta^{J}_{j} O^{I}_{i} $$\n",
    "\n",
    "with:  \n",
    "  \n",
    "$$ \\delta^{J}_{j} = O^{J}_{j} (1 - O^{J}_{j}) \\sum^{m}_{k = 0} (\\delta^{K}_{k} w^{K}_{jk}) $$\n",
    "    \n",
    "(3) For more hidden layers, the process can be iterated. For example: for the weight $w^{I}_{hi}$ of a hidden layer $I$ node i:\n",
    "    \n",
    "$$\\frac{\\partial{E}}{\\partial{w^{I}_{hi}}} = \\delta^{I}_{i} O^{H}_{h} $$\n",
    "\n",
    "with:  \n",
    "  \n",
    "$$ \\delta^{I}_{i} = O^{I}_{i} (1 - O^{I}_{i}) \\sum^{n}_{j = 0} (\\delta^{J}_{j} w^{J}_{ij}) $$\n"
   ]
  },
  {
   "cell_type": "markdown",
   "id": "f27376f0",
   "metadata": {},
   "source": [
    "#### Backpropagation with Chain-Rule"
   ]
  },
  {
   "cell_type": "code",
   "execution_count": 6,
   "id": "677ccc49",
   "metadata": {},
   "outputs": [
    {
     "name": "stdout",
     "output_type": "stream",
     "text": [
      "tensor(2.) tensor(2.) tensor(3.) tensor(1.)\n"
     ]
    }
   ],
   "source": [
    "import torch\n",
    "x = torch.tensor(1.)\n",
    "w1 = torch.tensor(2., requires_grad=True)\n",
    "b1 = torch.tensor(1., requires_grad=True)\n",
    "w2 = torch.tensor(2., requires_grad=True)\n",
    "b2 = torch.tensor(1., requires_grad=True)\n",
    "y = (x * w1 + b1) * w2 + b2\n",
    "grad_w1,grad_b1,grad_w2,grad_b2 = torch.autograd.grad(y,[w1,b1,w2,b2])\n",
    "print(grad_w1,grad_b1,grad_w2,grad_b2)"
   ]
  },
  {
   "cell_type": "markdown",
   "id": "c784909f",
   "metadata": {},
   "source": [
    "the gradients above:\n",
    "\n",
    "grad_w1:\n",
    "\n",
    "$$\n",
    "\\begin{equation}\n",
    "\\begin{aligned}\n",
    "\\frac{\\partial{y}}{\\partial{w_{1}}} &= \\frac{\\partial{[(xw_{1} + b_{1})w_{2} + b_{2}}]}{\\partial{w_{1}}} \\\\\n",
    "&= \\frac{\\partial{[(xw_{1} + b_{1})w_{2} + b_{2}}]}{\\partial{(xw_{1} + b_{1})}} \\frac{\\partial{(xw_{1} + b_{1})}}{\\partial{w_{1}}} \\\\\n",
    "&= w_{2}x\n",
    "\\end{aligned}\n",
    "\\end{equation}\n",
    "$$\n",
    "\n",
    "grad_b1:\n",
    "\n",
    "$$\n",
    "\\begin{equation}\n",
    "\\begin{aligned}\n",
    "\\frac{\\partial{y}}{\\partial{w_{1}}} &= \\frac{\\partial{[(xw_{1} + b_{1})w_{2} + b_{2}}]}{\\partial{b_{1}}} \\\\\n",
    "&= \\frac{\\partial{[(xw_{1} + b_{1})w_{2} + b_{2}}]}{\\partial{(xw_{1} + b_{1})}} \\frac{\\partial{(xw_{1} + b_{1})}}{\\partial{b_{1}}} \\\\\n",
    "&= w_{2} \\cdot 1\n",
    "\\end{aligned}\n",
    "\\end{equation}\n",
    "$$\n",
    "\n",
    "grad_w2:\n",
    "\n",
    "$$\n",
    "\\begin{equation}\n",
    "\\begin{aligned}\n",
    "\\frac{\\partial{y}}{\\partial{w_{1}}} &= \\frac{\\partial{[(xw_{1} + b_{1})w_{2} + b_{2}}]}{\\partial{w_{2}}} \\\\\n",
    "&= xw_{1} + b_{1} \\\\\n",
    "\\end{aligned}\n",
    "\\end{equation}\n",
    "$$\n",
    "\n",
    "grad_b2:\n",
    "\n",
    "$$\n",
    "\\begin{equation}\n",
    "\\begin{aligned}\n",
    "\\frac{\\partial{y}}{\\partial{w_{1}}} &= \\frac{\\partial{[(xw_{1} + b_{1})w_{2} + b_{2}}]}{\\partial{b_{2}}} \\\\\n",
    "&= 1 \\\\\n",
    "\\end{aligned}\n",
    "\\end{equation}\n",
    "$$"
   ]
  },
  {
   "cell_type": "markdown",
   "id": "e0fd69f4",
   "metadata": {},
   "source": []
  }
 ],
 "metadata": {
  "kernelspec": {
   "display_name": "Python 3 (ipykernel)",
   "language": "python",
   "name": "python3"
  },
  "language_info": {
   "codemirror_mode": {
    "name": "ipython",
    "version": 3
   },
   "file_extension": ".py",
   "mimetype": "text/x-python",
   "name": "python",
   "nbconvert_exporter": "python",
   "pygments_lexer": "ipython3",
   "version": "3.9.12"
  },
  "varInspector": {
   "cols": {
    "lenName": 16,
    "lenType": 16,
    "lenVar": 40
   },
   "kernels_config": {
    "python": {
     "delete_cmd_postfix": "",
     "delete_cmd_prefix": "del ",
     "library": "var_list.py",
     "varRefreshCmd": "print(var_dic_list())"
    },
    "r": {
     "delete_cmd_postfix": ") ",
     "delete_cmd_prefix": "rm(",
     "library": "var_list.r",
     "varRefreshCmd": "cat(var_dic_list()) "
    }
   },
   "types_to_exclude": [
    "module",
    "function",
    "builtin_function_or_method",
    "instance",
    "_Feature"
   ],
   "window_display": false
  }
 },
 "nbformat": 4,
 "nbformat_minor": 5
}
