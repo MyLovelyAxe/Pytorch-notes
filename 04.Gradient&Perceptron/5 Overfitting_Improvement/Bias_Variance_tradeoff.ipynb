{
 "cells": [
  {
   "cell_type": "markdown",
   "id": "0d024feb",
   "metadata": {},
   "source": [
    "#### Training & Validation & Testing\n",
    "Training set:\n",
    "\n",
    "    train parameters of the network;\n",
    "    \n",
    "Validation set:\n",
    "\n",
    "    select good parameters(e.g. w,b) for network in order to aviod of overfitting;\n",
    "    e.g.\n",
    "    compare the accurarcy and loss with Val-set after every epoch of training\n",
    "    take a parameters which from the epoch with best performanch\n",
    "    before overfitting occurs\n",
    "    \n",
    "Testing set:\n",
    "\n",
    "    test the network model with selected parameters;"
   ]
  },
  {
   "cell_type": "markdown",
   "id": "e3c23db4",
   "metadata": {},
   "source": [
    "#### Occam's Razor\n",
    "    more things should not be used than are necessary.\n",
    "In deep learning, it can be understood as:\n",
    "keep as small quantity of parameters as possible to construct network, when performance can be ensured."
   ]
  },
  {
   "cell_type": "markdown",
   "id": "99aa0dca",
   "metadata": {},
   "source": [
    "### The trade-off between Bias and Variance"
   ]
  },
  {
   "cell_type": "markdown",
   "id": "9398d4f7",
   "metadata": {},
   "source": [
    "#### Bias\n",
    "<font size=2>\n",
    "    \n",
    "**Bias** are the difference between model performance and real situation, i.e. the error/loss. For example, we use polynomial to model:\n",
    "\n",
    "$$ f(x) = \\alpha_{1} + \\alpha_{2}x + \\alpha_{3}x^{2} + ... + \\alpha_{n}x^{n-1} $$\n",
    "\n",
    "When we use too simple model with **few parameters** to predict a complex problem, e.g. just use linear model for classification:\n",
    "\n",
    "$$ f(x) = \\alpha_{1} + \\alpha_{2}x $$\n",
    "\n",
    "It is obviously not sufficient to depict a complex classification, therefore the we will get a **high bias**, which means the difference between prediction and real situation will be large.\n",
    "\n",
    "When we apply a complex polynomial with **more parameters**, such as 5-order:\n",
    "    \n",
    "$$ f(x) = \\alpha_{1} + \\alpha_{2}x + \\alpha_{3}x^{2} + \\alpha_{4}x^{3} + \\alpha_{5}x^{4} + \\alpha_{6}x^{5} $$\n",
    "\n",
    "which can maybe perfectly fit the training dataset, and get a **low bias**. However, usually too much parameters will cause the problem of **overfitting**, so we should also keep the order of polynomial under a suitable level."
   ]
  },
  {
   "cell_type": "markdown",
   "id": "4b3ec234",
   "metadata": {},
   "source": [
    "#### Variance\n",
    "<font size=2>\n",
    "    \n",
    "**Varience** represents the difference betwee training results of difference dataset with the same model, which means different data and same parameters.\n",
    "    \n",
    "If a model applys too many params, it will usually be confront with overfitting, which makes the model overwhelmingly only fit the specific dataset, other than also other datasets with general performance. We say **more parameters** make **high variance**.\n",
    "    \n",
    "Vice versa. If we relatively have **few parameters**, the model is relatively simple or general, it will fit as many datasets as possible, which is good to see to have **low variance**."
   ]
  },
  {
   "cell_type": "markdown",
   "id": "61f351d9",
   "metadata": {},
   "source": [
    "#### trade-off\n",
    "<font size=2>\n",
    "    \n",
    "According to the analysis above, we can conclude:\n",
    "    \n",
    "$$\n",
    "\\begin{equation}\n",
    "\\begin{aligned}\n",
    "&|\\quad bias \\quad variance \\\\\n",
    "more \\; params \\quad &|\\quad low \\quad high \\\\\n",
    "less \\; params \\quad &|\\quad high \\quad low \\\\\n",
    "\\end{aligned}\n",
    "\\end{equation}\n",
    "$$\n",
    "    \n",
    "Therefore the trade-off between **bias** and **variance** is important for avoid overfitting and improving models."
   ]
  },
  {
   "cell_type": "code",
   "execution_count": null,
   "id": "79129146",
   "metadata": {},
   "outputs": [],
   "source": []
  }
 ],
 "metadata": {
  "kernelspec": {
   "display_name": "Python 3 (ipykernel)",
   "language": "python",
   "name": "python3"
  },
  "language_info": {
   "codemirror_mode": {
    "name": "ipython",
    "version": 3
   },
   "file_extension": ".py",
   "mimetype": "text/x-python",
   "name": "python",
   "nbconvert_exporter": "python",
   "pygments_lexer": "ipython3",
   "version": "3.9.12"
  }
 },
 "nbformat": 4,
 "nbformat_minor": 5
}
