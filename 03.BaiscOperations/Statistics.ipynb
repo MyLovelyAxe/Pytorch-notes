{
 "cells": [
  {
   "cell_type": "markdown",
   "id": "a26d724d",
   "metadata": {},
   "source": [
    "### Statistics"
   ]
  },
  {
   "cell_type": "code",
   "execution_count": 1,
   "id": "99088e8e",
   "metadata": {},
   "outputs": [],
   "source": [
    "import torch"
   ]
  },
  {
   "cell_type": "markdown",
   "id": "762fbba5",
   "metadata": {},
   "source": [
    "#### Norm\n",
    "\n",
    "<font size = 2>\n",
    "    \n",
    "1-Norm:\n",
    "    \n",
    "$$Norm_1 = \\sum |x|$$\n",
    "    \n",
    "2-Norm:\n",
    "    \n",
    "$$Norm_1 = \\sqrt{\\sum |x|^{2}}$$"
   ]
  },
  {
   "cell_type": "code",
   "execution_count": 9,
   "id": "049ce928",
   "metadata": {},
   "outputs": [
    {
     "name": "stdout",
     "output_type": "stream",
     "text": [
      "array: tensor([1., 1., 1., 1., 1., 1., 1., 1.])\n",
      "1-norm is: tensor(8.)\n",
      "2-norm is: tensor(2.8284)\n",
      "-----------------------------------------------------------\n",
      "array: tensor([[1., 1., 1., 1.],\n",
      "        [1., 1., 1., 1.]])\n",
      "1-norm is: tensor(8.)\n",
      "2-norm is: tensor(2.8284)\n",
      "1-norm along dim0 is: tensor([2., 2., 2., 2.])\n",
      "2-norm along dim0 is: tensor([1.4142, 1.4142, 1.4142, 1.4142])\n",
      "-----------------------------------------------------------\n",
      "array: tensor([[[1., 1.],\n",
      "         [1., 1.]],\n",
      "\n",
      "        [[1., 1.],\n",
      "         [1., 1.]]])\n",
      "1-norm is: tensor(8.)\n",
      "2-norm is: tensor(2.8284)\n",
      "1-norm along dim0 is: tensor([[2., 2.],\n",
      "        [2., 2.]])\n",
      "2-norm along dim0 is: tensor([[1.4142, 1.4142],\n",
      "        [1.4142, 1.4142]])\n",
      "-----------------------------------------------------------\n"
     ]
    }
   ],
   "source": [
    "# input: array.norm(n-norm,dim)\n",
    "#        n-norm: designated norm, 1 or 2\n",
    "#        dim:    along which dimension to compute norm\n",
    "Norm_0 = torch.full([8],1.)\n",
    "Norm_1 = a.reshape(2,4)\n",
    "Norm_2 = a.reshape(2,2,2)\n",
    "Norm_lst = [Norm_0,Norm_1,Norm_2]\n",
    "\n",
    "for n in Norm_lst:\n",
    "    print('array:',n)\n",
    "    print('1-norm is:', n.norm(1))\n",
    "    print('2-norm is:', n.norm(2))\n",
    "    if n.dim() != 1:\n",
    "        print('1-norm along dim0 is:', n.norm(1,dim = 0))\n",
    "        print('2-norm along dim0 is:', n.norm(2,dim = 0))\n",
    "    print('-----------------------------------------------------------')"
   ]
  },
  {
   "cell_type": "markdown",
   "id": "c2b8e8d8",
   "metadata": {},
   "source": [
    "#### Basic Statistic Attributes"
   ]
  },
  {
   "cell_type": "code",
   "execution_count": 9,
   "id": "ad31199a",
   "metadata": {},
   "outputs": [
    {
     "name": "stdout",
     "output_type": "stream",
     "text": [
      "tensor([[-0.5557, -0.3938,  0.6927, -2.1592,  0.0805],\n",
      "        [ 0.3270,  0.2820,  0.1577, -1.2370, -1.2399],\n",
      "        [ 0.2043, -1.0154,  0.2553,  0.0894,  1.4474],\n",
      "        [-0.4010,  0.2939, -0.2611,  0.2104, -0.3992]])\n",
      "==========================================================\n",
      "a.max(): tensor(1.4474)\n",
      "a.min(): tensor(-2.1592)\n",
      "a.max(dim=0): torch.return_types.max(\n",
      "values=tensor([0.6927, 0.3270, 1.4474, 0.2939]),\n",
      "indices=tensor([2, 0, 4, 1]))\n",
      "tensor([0.6927, 0.3270, 1.4474, 0.2939])\n",
      "tensor([2, 0, 4, 1])\n",
      "a.min(dim=0): torch.return_types.min(\n",
      "values=tensor([-0.5557, -1.0154, -0.2611, -2.1592, -1.2399]),\n",
      "indices=tensor([0, 2, 3, 0, 1]))\n",
      "a.max(dim=0, keepdim = True): torch.return_types.max(\n",
      "values=tensor([[0.6927],\n",
      "        [0.3270],\n",
      "        [1.4474],\n",
      "        [0.2939]]),\n",
      "indices=tensor([[2],\n",
      "        [0],\n",
      "        [4],\n",
      "        [1]]))\n",
      "a.min(dim=0, keepdim = True): torch.return_types.min(\n",
      "values=tensor([[-0.5557, -1.0154, -0.2611, -2.1592, -1.2399]]),\n",
      "indices=tensor([[0, 2, 3, 0, 1]]))\n",
      "----------------------------------------------------------\n",
      "tensor(-3.6217) tensor(-0.1811) tensor(-1.0403e-08)\n",
      "----------------------------------------------------------\n",
      "tensor(14) tensor(3)\n",
      "tensor([1, 3, 0, 3, 2]) tensor([3, 4, 1, 0])\n"
     ]
    }
   ],
   "source": [
    "a = torch.randn(4,5)\n",
    "print(a)\n",
    "print('==========================================================')\n",
    "# a.max() defaultly 'flattens' the array and take max\n",
    "print('a.max():',a.max())\n",
    "print('a.min():', a.min())\n",
    "# a.max(dim) takes max along designated dim,return values and indices\n",
    "print('a.max(dim=0):',a.max(dim=1))\n",
    "# and the returned result can be indexed\n",
    "print(a.max(dim=1)[0])\n",
    "print(a.max(dim=1)[1])\n",
    "print('a.min(dim=0):',a.min(dim=0))\n",
    "# input: keepdim\n",
    "# if keepdim = True, then remain original dimension\n",
    "print('a.max(dim=0, keepdim = True):',a.max(dim=1, keepdim = True))\n",
    "print('a.min(dim=0, keepdim = True):',a.min(dim=0, keepdim = True))\n",
    "print('----------------------------------------------------------')\n",
    "# a.mean():  average\n",
    "# a.prod():  accumulated product\n",
    "# the situations are similar with max()/min()\n",
    "# return flattened results without 'dim'\n",
    "print(a.sum(),a.mean(),a.prod())\n",
    "print('----------------------------------------------------------')\n",
    "# defaultly, the array is flattened into dim 1 and return corresponding index\n",
    "# a.argmax(): the index of a.max()\n",
    "# a.argmin(): the index of a.min()\n",
    "print(a.argmax(),a.argmin())\n",
    "# find index of max or min along a specific dim\n",
    "print(a.argmax(dim = 0),a.argmin(dim = 1))"
   ]
  },
  {
   "cell_type": "markdown",
   "id": "efda815b",
   "metadata": {},
   "source": [
    "#### topk & kthvalue"
   ]
  },
  {
   "cell_type": "code",
   "execution_count": 12,
   "id": "010ef8b1",
   "metadata": {},
   "outputs": [
    {
     "name": "stdout",
     "output_type": "stream",
     "text": [
      "torch.return_types.topk(\n",
      "values=tensor([[ 1.1670,  0.2394,  0.1880],\n",
      "        [ 1.2879,  0.5098,  0.2336],\n",
      "        [ 2.1438,  2.1025,  0.7517],\n",
      "        [ 1.4081, -0.0622, -0.1390]]),\n",
      "indices=tensor([[3, 5, 7],\n",
      "        [3, 6, 1],\n",
      "        [7, 2, 1],\n",
      "        [3, 0, 4]]))\n",
      "tensor([[ 1.1670,  0.2394,  0.1880],\n",
      "        [ 1.2879,  0.5098,  0.2336],\n",
      "        [ 2.1438,  2.1025,  0.7517],\n",
      "        [ 1.4081, -0.0622, -0.1390]])\n",
      "=====================================================\n",
      "torch.return_types.topk(\n",
      "values=tensor([[-2.3198, -0.7830, -0.6400],\n",
      "        [-1.9828, -1.6678, -0.8083],\n",
      "        [-1.3674, -0.7456,  0.3508],\n",
      "        [-1.8039, -1.4360, -1.3084]]),\n",
      "indices=tensor([[0, 8, 2],\n",
      "        [4, 9, 5],\n",
      "        [3, 0, 5],\n",
      "        [2, 7, 8]]))\n",
      "=====================================================\n",
      "torch.return_types.kthvalue(\n",
      "values=tensor([ 0.1880,  0.2336,  0.7517, -0.1390]),\n",
      "indices=tensor([7, 1, 1, 4]))\n"
     ]
    }
   ],
   "source": [
    "# give a scene:\n",
    "# predict each picture show which single number\n",
    "# 4 pictures with 10 values which show respectively possibilities to be that number\n",
    "pred = torch.randn(4,10)\n",
    "# wanted: the most 3 possible (most 3 max) predicted number\n",
    "# the return contains values and indices, which can be indexed\n",
    "print(pred.topk(3,dim=1))\n",
    "print(pred.topk(3,dim=1)[0])\n",
    "print('=====================================================')\n",
    "# wanted: the most 3 impossible (most 3 min) predicted number\n",
    "print(pred.topk(3,dim=1,largest=False))\n",
    "print('=====================================================')\n",
    "# wanted: the 4th impossible number\n",
    "# attention: .kthvalue() only return results from lowest value, and cannot be inverse\n",
    "# e.g. the 8th smallest is exactly the 3rd largest\n",
    "print(pred.kthvalue(8,dim=1))"
   ]
  },
  {
   "cell_type": "markdown",
   "id": "272e8f71",
   "metadata": {},
   "source": [
    "#### Comparison"
   ]
  },
  {
   "cell_type": "code",
   "execution_count": 15,
   "id": "dd20ddc5",
   "metadata": {},
   "outputs": [
    {
     "name": "stdout",
     "output_type": "stream",
     "text": [
      "tensor([[1, 2, 0],\n",
      "        [3, 3, 1],\n",
      "        [3, 3, 0]])\n",
      "tensor([[0, 3, 2],\n",
      "        [0, 1, 1],\n",
      "        [3, 1, 1]])\n",
      "==========================================\n",
      "tensor([[False, False, False],\n",
      "        [False, False,  True],\n",
      "        [ True, False, False]])\n",
      "tensor([[False, False, False],\n",
      "        [ True,  True, False],\n",
      "        [ True,  True, False]])\n",
      "==========================================\n",
      "tensor([[False, False, False],\n",
      "        [False, False,  True],\n",
      "        [ True, False, False]])\n",
      "False\n",
      "tensor(False)\n"
     ]
    }
   ],
   "source": [
    "a = torch.randint(0,4,(3,3))\n",
    "b = torch.randint(0,4,(3,3))\n",
    "print(a)\n",
    "print(b)\n",
    "print('==========================================')\n",
    "# possible operators:\n",
    "#    ==, >=, <=, !=, >, <\n",
    "print(a==b)\n",
    "print(a>2)\n",
    "print('==========================================')\n",
    "# compare if equal\n",
    "#   torch.eq() compare elementary values\n",
    "print(torch.eq(a,b))\n",
    "#   torch.eq() compare the whole array\n",
    "print(torch.equal(a,b))\n",
    "print(torch.all(torch.eq(a,b)))"
   ]
  },
  {
   "cell_type": "code",
   "execution_count": null,
   "id": "295374c3",
   "metadata": {},
   "outputs": [],
   "source": []
  }
 ],
 "metadata": {
  "kernelspec": {
   "display_name": "Python 3 (ipykernel)",
   "language": "python",
   "name": "python3"
  },
  "language_info": {
   "codemirror_mode": {
    "name": "ipython",
    "version": 3
   },
   "file_extension": ".py",
   "mimetype": "text/x-python",
   "name": "python",
   "nbconvert_exporter": "python",
   "pygments_lexer": "ipython3",
   "version": "3.9.12"
  },
  "varInspector": {
   "cols": {
    "lenName": 16,
    "lenType": 16,
    "lenVar": 40
   },
   "kernels_config": {
    "python": {
     "delete_cmd_postfix": "",
     "delete_cmd_prefix": "del ",
     "library": "var_list.py",
     "varRefreshCmd": "print(var_dic_list())"
    },
    "r": {
     "delete_cmd_postfix": ") ",
     "delete_cmd_prefix": "rm(",
     "library": "var_list.r",
     "varRefreshCmd": "cat(var_dic_list()) "
    }
   },
   "types_to_exclude": [
    "module",
    "function",
    "builtin_function_or_method",
    "instance",
    "_Feature"
   ],
   "window_display": false
  }
 },
 "nbformat": 4,
 "nbformat_minor": 5
}
