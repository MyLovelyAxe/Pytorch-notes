{
 "cells": [
  {
   "cell_type": "markdown",
   "id": "70feef83",
   "metadata": {},
   "source": [
    "### High Order Operation"
   ]
  },
  {
   "cell_type": "code",
   "execution_count": 1,
   "id": "287237b0",
   "metadata": {},
   "outputs": [],
   "source": [
    "import torch"
   ]
  },
  {
   "cell_type": "markdown",
   "id": "43735c98",
   "metadata": {},
   "source": [
    "#### torch.where(cond,x,y)"
   ]
  },
  {
   "cell_type": "code",
   "execution_count": 2,
   "id": "1d5ead24",
   "metadata": {},
   "outputs": [
    {
     "name": "stdout",
     "output_type": "stream",
     "text": [
      "cond: tensor([[0.3776, 0.4625, 0.0334],\n",
      "        [0.8832, 0.8943, 0.2290],\n",
      "        [0.5927, 0.4979, 0.9902]])\n",
      "a: tensor([[1, 1, 1],\n",
      "        [1, 1, 1],\n",
      "        [1, 1, 1]])\n",
      "b: tensor([[0, 0, 0],\n",
      "        [0, 0, 0],\n",
      "        [0, 0, 0]])\n",
      "result: tensor([[0, 0, 0],\n",
      "        [1, 1, 0],\n",
      "        [1, 0, 1]])\n"
     ]
    }
   ],
   "source": [
    "# inputs:\n",
    "#   cond: the condition deciding to select values from x or y\n",
    "#   x:    if the condition is True, then select values form x\n",
    "#   y:    if the condition is False, then select values form y\n",
    "# we set 'cond' full of possibilities of choosing 'a'\n",
    "cond = torch.rand(3,3)\n",
    "print('cond:',cond)\n",
    "a = torch.full([3,3],1)\n",
    "print('a:',a)\n",
    "b = torch.full([3,3],0)\n",
    "print('b:',b)\n",
    "# i.e. if possibilities are greater than 0.5, then choose from 'a', or from 'b'\n",
    "result = torch.where(cond>0.5,a,b)\n",
    "print('result:',result)"
   ]
  },
  {
   "cell_type": "markdown",
   "id": "4a8390d1",
   "metadata": {},
   "source": [
    "#### torch.gather(input,dim,index)"
   ]
  },
  {
   "cell_type": "code",
   "execution_count": 3,
   "id": "1757b268",
   "metadata": {},
   "outputs": [
    {
     "name": "stdout",
     "output_type": "stream",
     "text": [
      "tensor([2, 0, 3, 3, 2, 1, 4, 1, 4, 2])\n",
      "tensor([3, 1, 4, 4, 3, 2, 5, 2, 5, 3])\n"
     ]
    }
   ],
   "source": [
    "# set an example:\n",
    "#   we have 5 cats in a cuteness-match\n",
    "#   and 10 audience to choose which is their favourite cat\n",
    "#   for each cat, every audience give a possibility of 'how much I love it'\n",
    "#   take the highest possibility for the cat they love\n",
    "# 1 for yellow, 2 for white, 3 for brawn, 4 for dark blue, 5 for grey\n",
    "cat = torch.tensor([1,2,3,4,5])\n",
    "audi = torch.rand(10,5)\n",
    "audi_select = audi.argmax(dim=1)\n",
    "print(audi_select)\n",
    "# inputs:\n",
    "#    input:  the table for inquiring\n",
    "#    dim:    the dimension to inquire\n",
    "#    index:  use the table to inquire\n",
    "res = torch.gather(cat,0,audi_select)\n",
    "print(res)"
   ]
  },
  {
   "cell_type": "code",
   "execution_count": null,
   "id": "1b934eaf",
   "metadata": {},
   "outputs": [],
   "source": []
  }
 ],
 "metadata": {
  "kernelspec": {
   "display_name": "Python 3 (ipykernel)",
   "language": "python",
   "name": "python3"
  },
  "language_info": {
   "codemirror_mode": {
    "name": "ipython",
    "version": 3
   },
   "file_extension": ".py",
   "mimetype": "text/x-python",
   "name": "python",
   "nbconvert_exporter": "python",
   "pygments_lexer": "ipython3",
   "version": "3.9.12"
  },
  "varInspector": {
   "cols": {
    "lenName": 16,
    "lenType": 16,
    "lenVar": 40
   },
   "kernels_config": {
    "python": {
     "delete_cmd_postfix": "",
     "delete_cmd_prefix": "del ",
     "library": "var_list.py",
     "varRefreshCmd": "print(var_dic_list())"
    },
    "r": {
     "delete_cmd_postfix": ") ",
     "delete_cmd_prefix": "rm(",
     "library": "var_list.r",
     "varRefreshCmd": "cat(var_dic_list()) "
    }
   },
   "types_to_exclude": [
    "module",
    "function",
    "builtin_function_or_method",
    "instance",
    "_Feature"
   ],
   "window_display": false
  }
 },
 "nbformat": 4,
 "nbformat_minor": 5
}
