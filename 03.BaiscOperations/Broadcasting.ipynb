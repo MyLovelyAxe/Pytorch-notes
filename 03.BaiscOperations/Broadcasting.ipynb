{
 "cells": [
  {
   "cell_type": "markdown",
   "id": "aa49c212",
   "metadata": {},
   "source": [
    "### Broadcasting"
   ]
  },
  {
   "cell_type": "code",
   "execution_count": 1,
   "id": "e819ccf3",
   "metadata": {},
   "outputs": [],
   "source": [
    "import torch"
   ]
  },
  {
   "cell_type": "code",
   "execution_count": 4,
   "id": "63355604",
   "metadata": {},
   "outputs": [
    {
     "name": "stdout",
     "output_type": "stream",
     "text": [
      "dataset shape: torch.Size([4, 3, 16, 16])\n"
     ]
    }
   ],
   "source": [
    "dataset = torch.randn(4,3,16,16)\n",
    "print('dataset shape:', dataset.shape)"
   ]
  },
  {
   "cell_type": "markdown",
   "id": "f635ceb5",
   "metadata": {},
   "source": [
    "#### Broadcasting Rules\n",
    "\n",
    "<font size = 2>\n",
    "    \n",
    "    1. Insert dimensions 'ahead';\n",
    "    2. Expand dimension from size 1 to N, or from N to N;"
   ]
  },
  {
   "cell_type": "code",
   "execution_count": 5,
   "id": "069a1df2",
   "metadata": {},
   "outputs": [
    {
     "name": "stdout",
     "output_type": "stream",
     "text": [
      "bias shape: torch.Size([3, 1, 1])\n",
      "output shape: torch.Size([4, 3, 16, 16])\n"
     ]
    }
   ],
   "source": [
    "# as what the broadcast rules say:\n",
    "#    broadcasting only insert dimensions 'ahead'\n",
    "#    so the latter 2 dimensions of 'bias' should be built by user\n",
    "bias0 = torch.randn(3,1,1)\n",
    "print('bias shape:',bias0.shape)\n",
    "# the process is:\n",
    "#    bias[3,1,1] --> bias[1,3,1,1] --> bias[4,3,16,16]\n",
    "output = dataset + bias0\n",
    "print('output shape:', output.shape)"
   ]
  },
  {
   "cell_type": "code",
   "execution_count": 7,
   "id": "1ccf8aab",
   "metadata": {},
   "outputs": [
    {
     "name": "stdout",
     "output_type": "stream",
     "text": [
      "bias shape: torch.Size([1])\n",
      "output shape: torch.Size([4, 3, 16, 16])\n"
     ]
    }
   ],
   "source": [
    "'''from 1 to N'''\n",
    "bias1 = torch.randn(1)\n",
    "print('bias shape:',bias1.shape)\n",
    "#the process is:\n",
    "#  bias[1] --> bias[1,1,1,1] --> bias[4,3,16,16]\n",
    "output = dataset + bias1\n",
    "print('output shape:', output.shape)"
   ]
  },
  {
   "cell_type": "code",
   "execution_count": 8,
   "id": "2e40e72c",
   "metadata": {},
   "outputs": [
    {
     "name": "stdout",
     "output_type": "stream",
     "text": [
      "bias shape: torch.Size([16])\n",
      "output shape: torch.Size([4, 3, 16, 16])\n"
     ]
    }
   ],
   "source": [
    "'''from N to N'''\n",
    "bias2 = torch.randn(16)\n",
    "print('bias shape:',bias2.shape)\n",
    "# the process is:\n",
    "#   bias[16] --> bias[1,1,1,16] --> bias[4,3,16,16]\n",
    "output = dataset + bias2\n",
    "print('output shape:', output.shape)"
   ]
  },
  {
   "cell_type": "code",
   "execution_count": null,
   "id": "af927363",
   "metadata": {},
   "outputs": [],
   "source": []
  }
 ],
 "metadata": {
  "kernelspec": {
   "display_name": "Python 3 (ipykernel)",
   "language": "python",
   "name": "python3"
  },
  "language_info": {
   "codemirror_mode": {
    "name": "ipython",
    "version": 3
   },
   "file_extension": ".py",
   "mimetype": "text/x-python",
   "name": "python",
   "nbconvert_exporter": "python",
   "pygments_lexer": "ipython3",
   "version": "3.9.12"
  },
  "varInspector": {
   "cols": {
    "lenName": 16,
    "lenType": 16,
    "lenVar": 40
   },
   "kernels_config": {
    "python": {
     "delete_cmd_postfix": "",
     "delete_cmd_prefix": "del ",
     "library": "var_list.py",
     "varRefreshCmd": "print(var_dic_list())"
    },
    "r": {
     "delete_cmd_postfix": ") ",
     "delete_cmd_prefix": "rm(",
     "library": "var_list.r",
     "varRefreshCmd": "cat(var_dic_list()) "
    }
   },
   "types_to_exclude": [
    "module",
    "function",
    "builtin_function_or_method",
    "instance",
    "_Feature"
   ],
   "window_display": false
  }
 },
 "nbformat": 4,
 "nbformat_minor": 5
}
