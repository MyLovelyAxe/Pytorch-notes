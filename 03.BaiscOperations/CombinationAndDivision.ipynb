{
 "cells": [
  {
   "cell_type": "markdown",
   "id": "6d0c704d",
   "metadata": {},
   "source": [
    "### Combination and Division"
   ]
  },
  {
   "cell_type": "code",
   "execution_count": 1,
   "id": "a61ac66f",
   "metadata": {},
   "outputs": [],
   "source": [
    "import torch"
   ]
  },
  {
   "cell_type": "markdown",
   "id": "8e682916",
   "metadata": {},
   "source": [
    "#### .cat( ) [Function]"
   ]
  },
  {
   "cell_type": "code",
   "execution_count": 16,
   "id": "7ba983b8",
   "metadata": {},
   "outputs": [
    {
     "name": "stdout",
     "output_type": "stream",
     "text": [
      "torch.Size([22, 23, 8])\n",
      "torch.Size([22, 23, 8])\n",
      "torch.Size([22, 23, 8])\n",
      "torch.Size([22, 23, 8])\n"
     ]
    }
   ],
   "source": [
    "# e.g.4 classes, 23 students, 8 scores of exams\n",
    "class_1 = torch.randn([4,23,8])\n",
    "class_2 = torch.randn([6,23,8])\n",
    "class_3 = torch.randn([12,23,8])\n",
    "# concatenate with classes\n",
    "# attention1: other dimensions must have same shapes\n",
    "# attention2: selecting para can be both 'axis' or 'dim'\n",
    "# way 1:\n",
    "class_on = torch.cat((class_1, class_2, class_3),axis = 0)\n",
    "print(class_con.shape)\n",
    "# way 2:\n",
    "class_on = torch.cat([class_1, class_2, class_3],dim = 0)\n",
    "print(class_con.shape)\n",
    "# way 3:\n",
    "class_tuple = (class_1,class_2,class_3)\n",
    "class_con = torch.cat(class_tuple,dim = 0)\n",
    "print(class_con.shape)\n",
    "# way 4:\n",
    "class_list = [class_1,class_2,class_3]\n",
    "class_con = torch.cat(class_list,axis = 0)\n",
    "print(class_con.shape)"
   ]
  },
  {
   "cell_type": "markdown",
   "id": "1bcde0c3",
   "metadata": {},
   "source": [
    "#### .stack( ) [Function]"
   ]
  },
  {
   "cell_type": "code",
   "execution_count": 22,
   "id": "ec88f0af",
   "metadata": {},
   "outputs": [
    {
     "name": "stdout",
     "output_type": "stream",
     "text": [
      "torch.Size([2, 32, 8])\n",
      "torch.Size([32, 2, 8])\n"
     ]
    }
   ],
   "source": [
    "#  .stack() creates new dimension\n",
    "# e.g.\n",
    "# 32 students, 8 exams for each, 2 classes\n",
    "class_1 = torch.randn(32,8)\n",
    "class_2 = torch.randn(32,8)\n",
    "# statistic 2 classes\n",
    "# after adding a new dimension, class_situ will have 3 dimension\n",
    "# second input 'dim' designates where to inssert a new dimension\n",
    "# and then stact along with this new dimension\n",
    "# attention: shapes of all dimensions must be same\n",
    "\n",
    "# dim = 0\n",
    "class_situ = torch.stack([class_1,class_2],dim=0)\n",
    "print(class_situ.shape)\n",
    "# dim = 1\n",
    "class_situ = torch.stack([class_1,class_2],dim=1)\n",
    "print(class_situ.shape)"
   ]
  },
  {
   "cell_type": "markdown",
   "id": "c71ba75f",
   "metadata": {},
   "source": [
    "#### .split( ) [Method]"
   ]
  },
  {
   "cell_type": "code",
   "execution_count": 39,
   "id": "a4bb635d",
   "metadata": {},
   "outputs": [
    {
     "name": "stdout",
     "output_type": "stream",
     "text": [
      "torch.Size([2, 3, 16, 16]) torch.Size([4, 3, 16, 16]) torch.Size([2, 3, 16, 16])\n",
      "torch.Size([3, 3, 16, 16]) torch.Size([3, 3, 16, 16]) torch.Size([2, 3, 16, 16])\n",
      "torch.Size([4, 3, 16, 16]) torch.Size([4, 3, 16, 16])\n"
     ]
    }
   ],
   "source": [
    "# .split( ) splits array through designated 'length'\n",
    "split_me = torch.randn(8,3,16,16)\n",
    "# along with dim0, split it with designated lengths of [2,4,2]\n",
    "# attention: shapes of other dimensions must be same\n",
    "aa,bb,cc = split_me.split([2,4,2],dim=0)\n",
    "print(aa.shape,bb.shape,cc.shape)\n",
    "# or with (3,3,2)\n",
    "aa,bb,cc = split_me.split((3,3,2),dim=0)\n",
    "print(aa.shape,bb.shape,cc.shape)\n",
    "#or split it with an average length(simialr with 'step'), without []\n",
    "aa,bb = split_me.split(4,dim=0)\n",
    "print(aa.shape,bb.shape)\n",
    "# ,bb.shape,cc.shape,dd.shape"
   ]
  },
  {
   "cell_type": "markdown",
   "id": "476f6002",
   "metadata": {},
   "source": [
    "#### .chunk( ) [Method]"
   ]
  },
  {
   "cell_type": "code",
   "execution_count": 50,
   "id": "d114fa9e",
   "metadata": {},
   "outputs": [
    {
     "name": "stdout",
     "output_type": "stream",
     "text": [
      "torch.Size([4, 3, 16, 16]) torch.Size([4, 3, 16, 16])\n",
      "torch.Size([3, 3, 16, 16]) torch.Size([3, 3, 16, 16]) torch.Size([2, 3, 16, 16])\n",
      "torch.Size([2, 3, 16, 16]) torch.Size([2, 3, 16, 16]) torch.Size([2, 3, 16, 16]) torch.Size([2, 3, 16, 16])\n",
      "torch.Size([2, 3, 16, 16]) torch.Size([2, 3, 16, 16]) torch.Size([2, 3, 16, 16]) torch.Size([2, 3, 16, 16])\n"
     ]
    }
   ],
   "source": [
    "# .chunk( ) splits array through designated 'number'\n",
    "chunk_me = torch.randn(8,3,16,16)\n",
    "# along with dim0, split it with designated number of 2\n",
    "# attention: shapes of other dimensions must be same\n",
    "\n",
    "# chunk into 2 tensor\n",
    "aa,bb = chunk_me.chunk(2,dim=0)\n",
    "print(aa.shape,bb.shape)\n",
    "# chunk into 3 tensor\n",
    "aa,bb,cc = chunk_me.chunk(3,dim=0)\n",
    "print(aa.shape,bb.shape,cc.shape)\n",
    "# chunk into 4 tensor\n",
    "aa,bb,cc,dd = chunk_me.chunk(4,dim=0)\n",
    "print(aa.shape,bb.shape,cc.shape,dd.shape)\n",
    "# it seems to the result of .chunk() at least have size of 2 along with that dimension\n",
    "aa,bb,cc,dd = chunk_me.chunk(5,dim=0)\n",
    "print(aa.shape,bb.shape,cc.shape,dd.shape)"
   ]
  },
  {
   "cell_type": "code",
   "execution_count": null,
   "id": "383f90f0",
   "metadata": {},
   "outputs": [],
   "source": []
  }
 ],
 "metadata": {
  "kernelspec": {
   "display_name": "Python 3 (ipykernel)",
   "language": "python",
   "name": "python3"
  },
  "language_info": {
   "codemirror_mode": {
    "name": "ipython",
    "version": 3
   },
   "file_extension": ".py",
   "mimetype": "text/x-python",
   "name": "python",
   "nbconvert_exporter": "python",
   "pygments_lexer": "ipython3",
   "version": "3.9.13"
  },
  "varInspector": {
   "cols": {
    "lenName": 16,
    "lenType": 16,
    "lenVar": 40
   },
   "kernels_config": {
    "python": {
     "delete_cmd_postfix": "",
     "delete_cmd_prefix": "del ",
     "library": "var_list.py",
     "varRefreshCmd": "print(var_dic_list())"
    },
    "r": {
     "delete_cmd_postfix": ") ",
     "delete_cmd_prefix": "rm(",
     "library": "var_list.r",
     "varRefreshCmd": "cat(var_dic_list()) "
    }
   },
   "types_to_exclude": [
    "module",
    "function",
    "builtin_function_or_method",
    "instance",
    "_Feature"
   ],
   "window_display": false
  }
 },
 "nbformat": 4,
 "nbformat_minor": 5
}
