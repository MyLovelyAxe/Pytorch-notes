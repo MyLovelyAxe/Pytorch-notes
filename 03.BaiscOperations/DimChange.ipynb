{
 "cells": [
  {
   "cell_type": "markdown",
   "id": "52c1c7d3",
   "metadata": {},
   "source": [
    "### Dimension Change"
   ]
  },
  {
   "cell_type": "code",
   "execution_count": 1,
   "id": "680c8ffb",
   "metadata": {},
   "outputs": [],
   "source": [
    "import torch"
   ]
  },
  {
   "cell_type": "code",
   "execution_count": 2,
   "id": "2731ff77",
   "metadata": {},
   "outputs": [
    {
     "name": "stdout",
     "output_type": "stream",
     "text": [
      "The dimension of dataset: torch.Size([16, 3, 28, 28])\n"
     ]
    }
   ],
   "source": [
    "dataset = torch.randn(16,3,28,28)\n",
    "print('The dimension of dataset:', dataset.shape)"
   ]
  },
  {
   "cell_type": "markdown",
   "id": "31342cf8",
   "metadata": {},
   "source": [
    "#### Dimension Changing"
   ]
  },
  {
   "cell_type": "code",
   "execution_count": 3,
   "id": "dd0b16fd",
   "metadata": {},
   "outputs": [
    {
     "name": "stdout",
     "output_type": "stream",
     "text": [
      "torch.Size([1, 48, 784])\n"
     ]
    }
   ],
   "source": [
    "'''reshape'''\n",
    "#reshape original data\n",
    "#but will lose original dimensional information\n",
    "a0 = dataset.reshape(1,16*3, 28*28)\n",
    "print(a0.shape)"
   ]
  },
  {
   "cell_type": "markdown",
   "id": "e1e4e354",
   "metadata": {},
   "source": [
    "#### Dimension Increasing"
   ]
  },
  {
   "cell_type": "code",
   "execution_count": 8,
   "id": "25af7b93",
   "metadata": {},
   "outputs": [
    {
     "name": "stdout",
     "output_type": "stream",
     "text": [
      "torch.Size([1, 16, 3, 28, 28])\n",
      "torch.Size([16, 3, 28, 1, 28])\n",
      "torch.Size([16, 1, 3, 28, 28])\n",
      "torch.Size([1, 16, 3, 28, 28])\n",
      "torch.Size([16, 3, 28, 28, 1])\n",
      "\n",
      "bias shape: torch.Size([3])\n",
      "bias shape: torch.Size([1, 3, 1, 1])\n"
     ]
    }
   ],
   "source": [
    "'''unsqueeze'''\n",
    "# .unsqueeze return a tensor with one more dimension\n",
    "# given original tensor with diemsion of 4\n",
    "# then ori.unsqueeze(dim) return a tensor with dimension of 5\n",
    "# and input 'dim' means where to insert the new dimension, in 'new' tensor\n",
    "# the 'dim' is the dimension 'after' unsqueezing\n",
    "# e.g. insert a new dimension on 0th dimension\n",
    "b0 = dataset.unsqueeze(0)\n",
    "b1 = dataset.unsqueeze(-2)\n",
    "b2 = dataset.unsqueeze(-4)\n",
    "b3 = dataset.unsqueeze(-5)\n",
    "b4 = dataset.unsqueeze(-1)\n",
    "b_lst = [b0,b1,b2,b3,b4]\n",
    "\n",
    "for b in b_lst:\n",
    "    print(b.shape)\n",
    "print()\n",
    "# for example:\n",
    "#   add a bias on each channel of dataset\n",
    "bias = torch.randn(3)\n",
    "print('bias shape:', bias.shape)\n",
    "#   unsqueeze bias into same dimension with dataset\n",
    "#   a.k.a, into shape of [1,3,1,1]\n",
    "bias = bias.unsqueeze(0).unsqueeze(2).unsqueeze(3)\n",
    "print('bias shape:', bias.shape)\n"
   ]
  },
  {
   "cell_type": "markdown",
   "id": "f739518a",
   "metadata": {},
   "source": [
    "#### Dimension Decreasing"
   ]
  },
  {
   "cell_type": "code",
   "execution_count": 5,
   "id": "c383a9b4",
   "metadata": {},
   "outputs": [
    {
     "name": "stdout",
     "output_type": "stream",
     "text": [
      "torch.Size([3])\n",
      "torch.Size([1, 3, 1, 1])\n",
      "torch.Size([1, 3, 1])\n",
      "torch.Size([3, 1, 1])\n",
      "=================================================\n",
      "bias before expand: torch.Size([1, 3, 1, 1])\n",
      "-------------------------------------------------\n",
      "bias after expand torch.Size([16, 3, 28, 28])\n",
      "bias after expand torch.Size([1, 3, 1, 28])\n"
     ]
    }
   ],
   "source": [
    "'''squeeze'''\n",
    "# decrease dimensions\n",
    "# e.g.no input means squeeze all dimensions with size of 1\n",
    "c0 = bias.squeeze()\n",
    "# if squeeze on a dimension with size greater than 1, then nothing will change\n",
    "c1 = bias.squeeze(1)\n",
    "# e.g. squeeze 3rd diemnsion\n",
    "c2 = bias.squeeze(3)\n",
    "c3 = bias.squeeze(-4)\n",
    "\n",
    "c_lst = [c0,c1,c2,c3]\n",
    "for c in c_lst:\n",
    "    print(c.shape)\n",
    "print('=================================================')\n",
    "\n",
    "'''expand'''\n",
    "print('bias before expand:',bias.shape)\n",
    "print('-------------------------------------------------')\n",
    "\n",
    "# to expand the size of certain dimensions\n",
    "# but can only expand from 1 to N, or from N to N\n",
    "bias_expanded1 = bias.expand([16,3,28,28])\n",
    "print('bias after expand',bias_expanded1.shape)\n",
    "\n",
    "# input size -1 means the size remains\n",
    "bias_expanded2 = bias.expand([-1,-1,-1,28])\n",
    "print('bias after expand',bias_expanded2.shape)\n"
   ]
  },
  {
   "cell_type": "markdown",
   "id": "e33e945d",
   "metadata": {},
   "source": [
    "#### Transposation"
   ]
  },
  {
   "cell_type": "code",
   "execution_count": 10,
   "id": "ab08d39a",
   "metadata": {},
   "outputs": [
    {
     "name": "stdout",
     "output_type": "stream",
     "text": [
      "original shape: torch.Size([3, 4])\n",
      "shape after .t(): torch.Size([4, 3])\n",
      "============================================\n",
      "original shape: torch.Size([16, 3, 28, 28])\n",
      "shape after .transpose(): torch.Size([16, 28, 28, 3])\n",
      "============================================\n",
      "original shape: torch.Size([4, 3, 28, 25])\n",
      "shape after .transpose(): torch.Size([4, 28, 25, 3])\n"
     ]
    }
   ],
   "source": [
    "'''.t()'''\n",
    "# can only transpose 2D array\n",
    "ori = torch.randn(3,4)\n",
    "print('original shape:', ori.shape)\n",
    "d_0 = ori.t()\n",
    "print('shape after .t():', d_0.shape)\n",
    "print('============================================')\n",
    "\n",
    "'''.transpose()'''\n",
    "# can transpose random 2 dimensions in a multi-dimensional array\n",
    "# only do one transposation for one time\n",
    "print('original shape:', dataset.shape)\n",
    "d_1 = dataset.transpose(1,3)\n",
    "print('shape after .transpose():', d_1.shape)\n",
    "print('============================================')\n",
    "\n",
    "'''.permute()'''\n",
    "# randomly transpose any dimension in one step\n",
    "ori2 = torch.randn(4,3,28,25)\n",
    "print('original shape:', ori2.shape)\n",
    "d_2 = ori2.permute(0,2,3,1)\n",
    "print('shape after .transpose():', d_2.shape)"
   ]
  },
  {
   "cell_type": "code",
   "execution_count": null,
   "id": "dea5b5ae",
   "metadata": {},
   "outputs": [],
   "source": []
  }
 ],
 "metadata": {
  "kernelspec": {
   "display_name": "Python 3 (ipykernel)",
   "language": "python",
   "name": "python3"
  },
  "language_info": {
   "codemirror_mode": {
    "name": "ipython",
    "version": 3
   },
   "file_extension": ".py",
   "mimetype": "text/x-python",
   "name": "python",
   "nbconvert_exporter": "python",
   "pygments_lexer": "ipython3",
   "version": "3.9.12"
  },
  "varInspector": {
   "cols": {
    "lenName": 16,
    "lenType": 16,
    "lenVar": 40
   },
   "kernels_config": {
    "python": {
     "delete_cmd_postfix": "",
     "delete_cmd_prefix": "del ",
     "library": "var_list.py",
     "varRefreshCmd": "print(var_dic_list())"
    },
    "r": {
     "delete_cmd_postfix": ") ",
     "delete_cmd_prefix": "rm(",
     "library": "var_list.r",
     "varRefreshCmd": "cat(var_dic_list()) "
    }
   },
   "types_to_exclude": [
    "module",
    "function",
    "builtin_function_or_method",
    "instance",
    "_Feature"
   ],
   "window_display": false
  }
 },
 "nbformat": 4,
 "nbformat_minor": 5
}
