{
 "cells": [
  {
   "cell_type": "markdown",
   "id": "6909235e",
   "metadata": {},
   "source": [
    "## Data Type"
   ]
  },
  {
   "cell_type": "code",
   "execution_count": 1,
   "id": "4976680b",
   "metadata": {},
   "outputs": [
    {
     "name": "stdout",
     "output_type": "stream",
     "text": [
      "1.12.1+cu116\n"
     ]
    }
   ],
   "source": [
    "import torch\n",
    "print(torch.__version__)"
   ]
  },
  {
   "cell_type": "markdown",
   "id": "4655f1c3",
   "metadata": {},
   "source": [
    "#### how to check basic information: e.g. data type, shape, element number and dimension"
   ]
  },
  {
   "cell_type": "code",
   "execution_count": 24,
   "id": "4f8938c5",
   "metadata": {},
   "outputs": [
    {
     "name": "stdout",
     "output_type": "stream",
     "text": [
      "a = tensor([[-1.2237, -0.9072, -0.1357],\n",
      "        [ 0.2770,  0.2681,  0.2232]])\n",
      "-------------------------------------------------------------\n",
      "###### data type ######\n",
      "specific type a.type():  torch.FloatTensor\n",
      "general type type(a):  <class 'torch.Tensor'>\n",
      "if a has type of torch.FloatTensor isinstance(a, torch.FloatTensor):  True\n",
      "-------------------------------------------------------------\n",
      "###### shape ######\n",
      "a.shape:  torch.Size([2, 3])\n",
      "type(a.shape):  <class 'torch.Size'>\n",
      "a.shape[0] = 2, a.shape[1] = 3\n",
      "b, c = a.shape\n",
      "b = 2 with type <class 'int'>\n",
      "c = 3 with type <class 'int'>\n",
      "a.size():  torch.Size([2, 3])\n",
      "type(a.size()):  <class 'torch.Size'>\n",
      "b, c = a.size()\n",
      "-------------------------------------------------------------\n",
      "###### element number ######\n",
      "a.numel():  6\n",
      "type(a.numel()):  <class 'int'>\n",
      "-------------------------------------------------------------\n",
      "###### dimension ######\n",
      "a.dim():  2\n",
      "type(a.dim()):  <class 'int'>\n"
     ]
    }
   ],
   "source": [
    "a = torch.randn(2,3)\n",
    "print('a =',a)\n",
    "print('-------------------------------------------------------------')\n",
    "\n",
    "print('###### data type ######')\n",
    "print('specific type a.type(): ', a.type())\n",
    "print('general type type(a): ', type(a))\n",
    "print('if a has type of torch.FloatTensor isinstance(a, torch.FloatTensor): ', isinstance(a, torch.FloatTensor))\n",
    "print('-------------------------------------------------------------')\n",
    "\n",
    "print('###### shape ######')\n",
    "# .shape is the same with .size()\n",
    "print('a.shape: ', a.shape)\n",
    "print('type(a.shape): ', type(a.shape))\n",
    "# .shape with type of <class 'torch.Size'>\n",
    "# which can be indexed,whose elements can assigned individually\n",
    "b, c = a.shape\n",
    "print('a.shape[0] = {}, a.shape[1] = {}'.format(a.shape[0], a.shape[1]))\n",
    "print('b, c = a.shape')\n",
    "print('b = {} with type {}'.format(b, type(b)))\n",
    "print('c = {} with type {}'.format(c, type(c)))\n",
    "print('a.size(): ', a.size())\n",
    "print('type(a.size()): ', type(a.size()))\n",
    "print('b, c = a.size()')\n",
    "print('-------------------------------------------------------------')\n",
    "\n",
    "print('###### element number ######')\n",
    "print('a.numel(): ', a.numel())\n",
    "print('type(a.numel()): ', type(a.numel()))\n",
    "print('-------------------------------------------------------------')\n",
    "\n",
    "print('###### dimension ######')\n",
    "print('a.dim(): ', a.dim())\n",
    "print('type(a.dim()): ', type(a.dim()))"
   ]
  },
  {
   "cell_type": "markdown",
   "id": "9f63e701",
   "metadata": {},
   "source": [
    "#### difference on CPU and GPU"
   ]
  },
  {
   "cell_type": "code",
   "execution_count": 19,
   "id": "5bb8f6f1",
   "metadata": {},
   "outputs": [
    {
     "name": "stdout",
     "output_type": "stream",
     "text": [
      "torch.FloatTensor\n",
      "False\n",
      "torch.cuda.FloatTensor\n",
      "True\n"
     ]
    }
   ],
   "source": [
    "b = torch.randn(2,3)\n",
    "print(b.type())\n",
    "print(isinstance(b, torch.cuda.FloatTensor))\n",
    "# .cuda tansfer data from cpu to gpu\n",
    "# and the data type will be different\n",
    "b = b.cuda()\n",
    "print(b.type())\n",
    "print(isinstance(b, torch.cuda.FloatTensor))"
   ]
  },
  {
   "cell_type": "markdown",
   "id": "ecd7d517",
   "metadata": {},
   "source": [
    "### 0-dimensional tensor: scalar\n",
    "#### without [ ]"
   ]
  },
  {
   "cell_type": "code",
   "execution_count": 20,
   "id": "fd109afa",
   "metadata": {},
   "outputs": [
    {
     "name": "stdout",
     "output_type": "stream",
     "text": [
      "tensor(3)\n",
      "type: torch.LongTensor\n",
      "shape: torch.Size([])\n",
      "dim: 0\n",
      "-------------------------------------------------------------\n",
      "tensor(3.)\n",
      "type: torch.FloatTensor\n",
      "shape: torch.Size([])\n",
      "dim: 0\n",
      "-------------------------------------------------------------\n"
     ]
    }
   ],
   "source": [
    "# without '.' gives int data\n",
    "dim0_0 = torch.tensor(3)\n",
    "# with '.' gives float data\n",
    "dim0_1 = torch.tensor(3.)\n",
    "\n",
    "lst_dim0 = [dim0_0, dim0_1]\n",
    "for i,data in enumerate(lst_dim0):\n",
    "    print(data)\n",
    "    print('type:', data.type())\n",
    "    print('shape:', data.shape)\n",
    "    print('dim:', data.dim())\n",
    "    print('-------------------------------------------------------------')"
   ]
  },
  {
   "cell_type": "markdown",
   "id": "ad81ffce",
   "metadata": {},
   "source": [
    "### 1-dimensional tensor: e.g. [bias_len] for bias of network\n",
    "#### with [ ]"
   ]
  },
  {
   "cell_type": "code",
   "execution_count": 21,
   "id": "577c04ac",
   "metadata": {},
   "outputs": [
    {
     "name": "stdout",
     "output_type": "stream",
     "text": [
      "<class 'torch.Size'>\n",
      "tensor([2., 3., 4., 5.])\n",
      "type: torch.FloatTensor\n",
      "shape: torch.Size([4])\n",
      "dim: 1\n",
      "-------------------------------------------------------------\n",
      "tensor([3])\n",
      "type: torch.LongTensor\n",
      "shape: torch.Size([1])\n",
      "dim: 1\n",
      "-------------------------------------------------------------\n"
     ]
    }
   ],
   "source": [
    "# with '.' -> float\n",
    "dim1_0 = torch.tensor([2,3,4.,5])\n",
    "# without '.' -> int\n",
    "dim1_1 = torch.tensor([3])\n",
    "\n",
    "lst_dim1 = [dim1_0, dim1_1]\n",
    "for i,data in enumerate(lst_dim1):\n",
    "    print(data)\n",
    "    print('type:', data.type())\n",
    "    print('shape:', data.shape)\n",
    "    print('dim:', data.dim())\n",
    "    print('-------------------------------------------------------------')"
   ]
  },
  {
   "cell_type": "markdown",
   "id": "83baf57f",
   "metadata": {},
   "source": [
    "### 2-dimensional tensor: vector\n",
    "#### with [ ]"
   ]
  },
  {
   "cell_type": "code",
   "execution_count": 25,
   "id": "16c32bfd",
   "metadata": {},
   "outputs": [
    {
     "name": "stdout",
     "output_type": "stream",
     "text": [
      "tensor([[2., 3.],\n",
      "        [4., 5.]])\n",
      "type: torch.FloatTensor\n",
      "shape: torch.Size([2, 2])\n",
      "dim: 2\n",
      "-------------------------------------------------------------\n",
      "tensor([[7, 8],\n",
      "        [9, 4]])\n",
      "type: torch.LongTensor\n",
      "shape: torch.Size([2, 2])\n",
      "dim: 2\n",
      "-------------------------------------------------------------\n"
     ]
    }
   ],
   "source": [
    "# with '.' -> float\n",
    "dim2_0 = torch.tensor([[2,3.],[4,5]])\n",
    "# without '.' -> int\n",
    "dim2_1 = torch.tensor([[7,8],[9,4]])\n",
    "\n",
    "lst_dim2 = [dim2_0, dim2_1]\n",
    "for i,data in enumerate(lst_dim2):\n",
    "    print(data)\n",
    "    print('type:', data.type())\n",
    "    print('shape:', data.shape)\n",
    "    print('dim:', data.dim())\n",
    "    print('-------------------------------------------------------------')"
   ]
  },
  {
   "cell_type": "markdown",
   "id": "3ca0206b",
   "metadata": {},
   "source": [
    "### 3-dimensional tensor: e.g. [seg_len, batch, feature_len] for time sequence\n",
    "#### with [ ]"
   ]
  },
  {
   "cell_type": "code",
   "execution_count": 29,
   "id": "384f60a1",
   "metadata": {},
   "outputs": [
    {
     "name": "stdout",
     "output_type": "stream",
     "text": [
      "tensor([[[2., 3.],\n",
      "         [4., 5.]]])\n",
      "type: torch.FloatTensor\n",
      "shape: torch.Size([1, 2, 2])\n",
      "dim: 3\n",
      "-------------------------------------------------------------\n",
      "tensor([[[7, 8],\n",
      "         [9, 4]]])\n",
      "type: torch.LongTensor\n",
      "shape: torch.Size([1, 2, 2])\n",
      "dim: 3\n",
      "-------------------------------------------------------------\n"
     ]
    }
   ],
   "source": [
    "#with '.' -> float\n",
    "dim3_0 = torch.tensor([[[2,3.],[4,5]]])\n",
    "#without '.' -> int\n",
    "dim3_1 = torch.tensor([[[7,8],[9,4]]])\n",
    "\n",
    "lst_dim3 = [dim3_0, dim3_1]\n",
    "for i,data in enumerate(lst_dim3):\n",
    "    print(data)\n",
    "    print('type:', data.type())\n",
    "    print('shape:', data.shape)\n",
    "    print('dim:', data.dim())\n",
    "    print('-------------------------------------------------------------')"
   ]
  },
  {
   "cell_type": "markdown",
   "id": "1507aad7",
   "metadata": {},
   "source": [
    "### 4-dimensional tensor: e.g. [batch, channel, height, width] for image dataset"
   ]
  },
  {
   "cell_type": "code",
   "execution_count": 32,
   "id": "94e1b50d",
   "metadata": {},
   "outputs": [
    {
     "name": "stdout",
     "output_type": "stream",
     "text": [
      "type: torch.FloatTensor\n",
      "shape: torch.Size([4, 3, 6, 6])\n",
      "dim: 4\n",
      "-------------------------------------------------------------\n",
      "type: torch.LongTensor\n",
      "shape: torch.Size([4, 5, 3, 3])\n",
      "dim: 4\n",
      "-------------------------------------------------------------\n"
     ]
    }
   ],
   "source": [
    "# torch.randn() -> random float\n",
    "dim3_0 = torch.randn(4,3,6,6)\n",
    "# torch.randint() -> random int\n",
    "dim3_1 = torch.randint(20,[4,5,3,3])\n",
    "\n",
    "lst_dim3 = [dim3_0, dim3_1]\n",
    "for i,data in enumerate(lst_dim3):\n",
    "    print('type:', data.type())\n",
    "    print('shape:', data.shape)\n",
    "    print('dim:', data.dim())\n",
    "    print('-------------------------------------------------------------')"
   ]
  }
 ],
 "metadata": {
  "kernelspec": {
   "display_name": "Python 3 (ipykernel)",
   "language": "python",
   "name": "python3"
  },
  "language_info": {
   "codemirror_mode": {
    "name": "ipython",
    "version": 3
   },
   "file_extension": ".py",
   "mimetype": "text/x-python",
   "name": "python",
   "nbconvert_exporter": "python",
   "pygments_lexer": "ipython3",
   "version": "3.9.13"
  },
  "varInspector": {
   "cols": {
    "lenName": 16,
    "lenType": 16,
    "lenVar": 40
   },
   "kernels_config": {
    "python": {
     "delete_cmd_postfix": "",
     "delete_cmd_prefix": "del ",
     "library": "var_list.py",
     "varRefreshCmd": "print(var_dic_list())"
    },
    "r": {
     "delete_cmd_postfix": ") ",
     "delete_cmd_prefix": "rm(",
     "library": "var_list.r",
     "varRefreshCmd": "cat(var_dic_list()) "
    }
   },
   "types_to_exclude": [
    "module",
    "function",
    "builtin_function_or_method",
    "instance",
    "_Feature"
   ],
   "window_display": false
  }
 },
 "nbformat": 4,
 "nbformat_minor": 5
}
