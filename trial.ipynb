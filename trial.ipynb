{
 "cells": [
  {
   "cell_type": "code",
   "execution_count": 3,
   "id": "d0cf705f",
   "metadata": {},
   "outputs": [
    {
     "name": "stdout",
     "output_type": "stream",
     "text": [
      "[-9 -8 -7 -6 -5 -4 -3 -2 -1  0]\n",
      "9\n"
     ]
    }
   ],
   "source": [
    "import numpy as np\n",
    "len_window=10\n",
    "x_offsets = np.sort(\n",
    "    np.concatenate((np.arange(-len_window+1, 1, 1),))\n",
    ")\n",
    "print(x_offsets)\n",
    "print(abs(min(x_offsets)) )"
   ]
  },
  {
   "cell_type": "code",
   "execution_count": 6,
   "id": "7ba251e0",
   "metadata": {},
   "outputs": [
    {
     "name": "stdout",
     "output_type": "stream",
     "text": [
      "torch.Size([1, 1, 2])\n"
     ]
    }
   ],
   "source": [
    "import torch\n",
    "import torch.nn as nn\n",
    "a = torch.randn(1,3,4)\n",
    "mp = nn.MaxPool2d(2,stride=2)\n",
    "output = mp(a)\n",
    "print(output.shape)"
   ]
  },
  {
   "cell_type": "code",
   "execution_count": 2,
   "id": "24bbb02c",
   "metadata": {},
   "outputs": [
    {
     "name": "stdout",
     "output_type": "stream",
     "text": [
      "[[-9 -8 -7 -6 -5 -4 -3 -2 -1  0]]\n"
     ]
    }
   ],
   "source": [
    "len_window=10\n",
    "x_offsets = np.sort(\n",
    "    (np.arange(-len_window+1, 1, 1),)\n",
    ")\n",
    "print(x_offsets)"
   ]
  },
  {
   "cell_type": "code",
   "execution_count": 2,
   "id": "fc434040",
   "metadata": {},
   "outputs": [
    {
     "name": "stdout",
     "output_type": "stream",
     "text": [
      "1\n",
      "NVIDIA GeForce RTX 3080 Ti Laptop GPU\n"
     ]
    }
   ],
   "source": [
    "import torch\n",
    "print(torch.cuda.device_count())\n",
    "print(torch.cuda.get_device_name(0))"
   ]
  },
  {
   "cell_type": "code",
   "execution_count": 17,
   "id": "b22a6601",
   "metadata": {},
   "outputs": [
    {
     "name": "stdout",
     "output_type": "stream",
     "text": [
      "(2, 5)\n",
      "(2, 5)\n",
      "<class 'numpy.ndarray'>\n",
      "<class 'numpy.ndarray'>\n"
     ]
    },
    {
     "ename": "TypeError",
     "evalue": "'int' object is not callable",
     "output_type": "error",
     "traceback": [
      "\u001b[0;31m---------------------------------------------------------------------------\u001b[0m",
      "\u001b[0;31mTypeError\u001b[0m                                 Traceback (most recent call last)",
      "\u001b[0;32m/tmp/ipykernel_5992/3749090533.py\u001b[0m in \u001b[0;36m<module>\u001b[0;34m\u001b[0m\n\u001b[1;32m     13\u001b[0m \u001b[0mprint\u001b[0m\u001b[0;34m(\u001b[0m\u001b[0mtype\u001b[0m\u001b[0;34m(\u001b[0m\u001b[0mobservations\u001b[0m\u001b[0;34m)\u001b[0m\u001b[0;34m)\u001b[0m\u001b[0;34m\u001b[0m\u001b[0;34m\u001b[0m\u001b[0m\n\u001b[1;32m     14\u001b[0m \u001b[0mprint\u001b[0m\u001b[0;34m(\u001b[0m\u001b[0mtype\u001b[0m\u001b[0;34m(\u001b[0m\u001b[0mtarget\u001b[0m\u001b[0;34m)\u001b[0m\u001b[0;34m)\u001b[0m\u001b[0;34m\u001b[0m\u001b[0;34m\u001b[0m\u001b[0m\n\u001b[0;32m---> 15\u001b[0;31m \u001b[0mloss_num\u001b[0m \u001b[0;34m=\u001b[0m \u001b[0mcriterion\u001b[0m\u001b[0;34m(\u001b[0m\u001b[0mobservations\u001b[0m\u001b[0;34m,\u001b[0m\u001b[0mtarget\u001b[0m\u001b[0;34m)\u001b[0m\u001b[0;34m\u001b[0m\u001b[0;34m\u001b[0m\u001b[0m\n\u001b[0m\u001b[1;32m     16\u001b[0m \u001b[0mprint\u001b[0m\u001b[0;34m(\u001b[0m\u001b[0mloss_den\u001b[0m\u001b[0;34m)\u001b[0m\u001b[0;34m\u001b[0m\u001b[0;34m\u001b[0m\u001b[0m\n\u001b[1;32m     17\u001b[0m \u001b[0;34m\u001b[0m\u001b[0m\n",
      "\u001b[0;32m~/anaconda3/lib/python3.9/site-packages/torch/nn/modules/module.py\u001b[0m in \u001b[0;36m_call_impl\u001b[0;34m(self, *input, **kwargs)\u001b[0m\n\u001b[1;32m   1192\u001b[0m         if not (self._backward_hooks or self._forward_hooks or self._forward_pre_hooks or _global_backward_hooks\n\u001b[1;32m   1193\u001b[0m                 or _global_forward_hooks or _global_forward_pre_hooks):\n\u001b[0;32m-> 1194\u001b[0;31m             \u001b[0;32mreturn\u001b[0m \u001b[0mforward_call\u001b[0m\u001b[0;34m(\u001b[0m\u001b[0;34m*\u001b[0m\u001b[0minput\u001b[0m\u001b[0;34m,\u001b[0m \u001b[0;34m**\u001b[0m\u001b[0mkwargs\u001b[0m\u001b[0;34m)\u001b[0m\u001b[0;34m\u001b[0m\u001b[0;34m\u001b[0m\u001b[0m\n\u001b[0m\u001b[1;32m   1195\u001b[0m         \u001b[0;31m# Do not call functions when jit is used\u001b[0m\u001b[0;34m\u001b[0m\u001b[0;34m\u001b[0m\u001b[0m\n\u001b[1;32m   1196\u001b[0m         \u001b[0mfull_backward_hooks\u001b[0m\u001b[0;34m,\u001b[0m \u001b[0mnon_full_backward_hooks\u001b[0m \u001b[0;34m=\u001b[0m \u001b[0;34m[\u001b[0m\u001b[0;34m]\u001b[0m\u001b[0;34m,\u001b[0m \u001b[0;34m[\u001b[0m\u001b[0;34m]\u001b[0m\u001b[0;34m\u001b[0m\u001b[0;34m\u001b[0m\u001b[0m\n",
      "\u001b[0;32m~/anaconda3/lib/python3.9/site-packages/torch/nn/modules/loss.py\u001b[0m in \u001b[0;36mforward\u001b[0;34m(self, input, target)\u001b[0m\n\u001b[1;32m    534\u001b[0m \u001b[0;34m\u001b[0m\u001b[0m\n\u001b[1;32m    535\u001b[0m     \u001b[0;32mdef\u001b[0m \u001b[0mforward\u001b[0m\u001b[0;34m(\u001b[0m\u001b[0mself\u001b[0m\u001b[0;34m,\u001b[0m \u001b[0minput\u001b[0m\u001b[0;34m:\u001b[0m \u001b[0mTensor\u001b[0m\u001b[0;34m,\u001b[0m \u001b[0mtarget\u001b[0m\u001b[0;34m:\u001b[0m \u001b[0mTensor\u001b[0m\u001b[0;34m)\u001b[0m \u001b[0;34m->\u001b[0m \u001b[0mTensor\u001b[0m\u001b[0;34m:\u001b[0m\u001b[0;34m\u001b[0m\u001b[0;34m\u001b[0m\u001b[0m\n\u001b[0;32m--> 536\u001b[0;31m         \u001b[0;32mreturn\u001b[0m \u001b[0mF\u001b[0m\u001b[0;34m.\u001b[0m\u001b[0mmse_loss\u001b[0m\u001b[0;34m(\u001b[0m\u001b[0minput\u001b[0m\u001b[0;34m,\u001b[0m \u001b[0mtarget\u001b[0m\u001b[0;34m,\u001b[0m \u001b[0mreduction\u001b[0m\u001b[0;34m=\u001b[0m\u001b[0mself\u001b[0m\u001b[0;34m.\u001b[0m\u001b[0mreduction\u001b[0m\u001b[0;34m)\u001b[0m\u001b[0;34m\u001b[0m\u001b[0;34m\u001b[0m\u001b[0m\n\u001b[0m\u001b[1;32m    537\u001b[0m \u001b[0;34m\u001b[0m\u001b[0m\n\u001b[1;32m    538\u001b[0m \u001b[0;34m\u001b[0m\u001b[0m\n",
      "\u001b[0;32m~/anaconda3/lib/python3.9/site-packages/torch/nn/functional.py\u001b[0m in \u001b[0;36mmse_loss\u001b[0;34m(input, target, size_average, reduce, reduction)\u001b[0m\n\u001b[1;32m   3279\u001b[0m             \u001b[0mmse_loss\u001b[0m\u001b[0;34m,\u001b[0m \u001b[0;34m(\u001b[0m\u001b[0minput\u001b[0m\u001b[0;34m,\u001b[0m \u001b[0mtarget\u001b[0m\u001b[0;34m)\u001b[0m\u001b[0;34m,\u001b[0m \u001b[0minput\u001b[0m\u001b[0;34m,\u001b[0m \u001b[0mtarget\u001b[0m\u001b[0;34m,\u001b[0m \u001b[0msize_average\u001b[0m\u001b[0;34m=\u001b[0m\u001b[0msize_average\u001b[0m\u001b[0;34m,\u001b[0m \u001b[0mreduce\u001b[0m\u001b[0;34m=\u001b[0m\u001b[0mreduce\u001b[0m\u001b[0;34m,\u001b[0m \u001b[0mreduction\u001b[0m\u001b[0;34m=\u001b[0m\u001b[0mreduction\u001b[0m\u001b[0;34m\u001b[0m\u001b[0;34m\u001b[0m\u001b[0m\n\u001b[1;32m   3280\u001b[0m         )\n\u001b[0;32m-> 3281\u001b[0;31m     \u001b[0;32mif\u001b[0m \u001b[0;32mnot\u001b[0m \u001b[0;34m(\u001b[0m\u001b[0mtarget\u001b[0m\u001b[0;34m.\u001b[0m\u001b[0msize\u001b[0m\u001b[0;34m(\u001b[0m\u001b[0;34m)\u001b[0m \u001b[0;34m==\u001b[0m \u001b[0minput\u001b[0m\u001b[0;34m.\u001b[0m\u001b[0msize\u001b[0m\u001b[0;34m(\u001b[0m\u001b[0;34m)\u001b[0m\u001b[0;34m)\u001b[0m\u001b[0;34m:\u001b[0m\u001b[0;34m\u001b[0m\u001b[0;34m\u001b[0m\u001b[0m\n\u001b[0m\u001b[1;32m   3282\u001b[0m         warnings.warn(\n\u001b[1;32m   3283\u001b[0m             \u001b[0;34m\"Using a target size ({}) that is different to the input size ({}). \"\u001b[0m\u001b[0;34m\u001b[0m\u001b[0;34m\u001b[0m\u001b[0m\n",
      "\u001b[0;31mTypeError\u001b[0m: 'int' object is not callable"
     ]
    }
   ],
   "source": [
    "import numpy as np\n",
    "import torch\n",
    "import torch.nn as nn\n",
    "criterion = nn.MSELoss()\n",
    "observations = np.linspace(0,10,10).reshape(2,5)\n",
    "target = np.linspace(0,10,10).reshape(2,5)\n",
    "print(observations.shape)\n",
    "print(target.shape)\n",
    "\n",
    "#observations = torch.tensor(observations)\n",
    "#target = torch.tensor(target)\n",
    "\n",
    "print(type(observations))\n",
    "print(type(target))\n",
    "loss_num = criterion(observations,target)\n",
    "print(loss_den)\n",
    "\n",
    "a = observations.mean().expand(observations.shape)\n",
    "print(a.shape)\n",
    "\n",
    "print(type(observations))\n",
    "print(type(a))\n",
    "loss_den = criterion(observations,a)\n",
    "print(loss_den)\n",
    "\n",
    "loss = loss_num / loss_den\n",
    "print(loss)"
   ]
  },
  {
   "cell_type": "code",
   "execution_count": 5,
   "id": "8d02aff8",
   "metadata": {},
   "outputs": [
    {
     "name": "stdout",
     "output_type": "stream",
     "text": [
      "[[2 2]\n",
      " [0 0]]\n"
     ]
    }
   ],
   "source": [
    "from sklearn.metrics import confusion_matrix\n",
    "import numpy as np\n",
    "y_true = np.array([1,1,1,1])\n",
    "y_pred_class = np.array([1,2,2,1])\n",
    "cm = confusion_matrix(y_true, y_pred_class)\n",
    "print(cm)"
   ]
  },
  {
   "cell_type": "code",
   "execution_count": 7,
   "id": "6f9561ab",
   "metadata": {},
   "outputs": [
    {
     "name": "stdout",
     "output_type": "stream",
     "text": [
      "[0.8        0.85714286 1.         1.        ] (4,)\n"
     ]
    }
   ],
   "source": [
    "from sklearn.metrics import f1_score\n",
    "import numpy as np\n",
    "y_true = np.array([1,2,2,3,4,1,2,3,1])\n",
    "y_pred_class = np.array([1,2,2,3,4,2,2,3,1])\n",
    "# param 'average' is required for multiclass/multilabel targets.\n",
    "# If None, the scores for each class are returned.\n",
    "# https://scikit-learn.org/stable/modules/generated/sklearn.metrics.f1_score.html\n",
    "f1 = f1_score(y_true, y_pred_class, average=None)\n",
    "# ps:\n",
    "# the shape of f1-score depends on this:\n",
    "# no matter what shape y_true has, it will be automatically detected that how many labels are mentioned\n",
    "# and the number of labels equals to the shape of output of f1-score\n",
    "# if there is extra labels in y_pred, shape of f1-score will accordingly add\n",
    "# e.g.\n",
    "# current y_true has shape [9,] but only 4 labels appear(e.g.1,2,3,4)\n",
    "# then f1.score will have shape [4,]\n",
    "print(f1,f1.shape)"
   ]
  },
  {
   "cell_type": "code",
   "execution_count": 10,
   "id": "89d34d94",
   "metadata": {},
   "outputs": [
    {
     "name": "stdout",
     "output_type": "stream",
     "text": [
      "[0.66666667 1.         1.         0.        ] (4,)\n"
     ]
    }
   ],
   "source": [
    "from sklearn.metrics import recall_score\n",
    "import numpy as np\n",
    "y_true = np.array([1,2,2,3,4,1,2,3,1])\n",
    "y_pred_class = np.array([1,2,2,3,2,2,2,3,1])\n",
    "recall = recall_score(y_true, y_pred_class, average=None)\n",
    "# explanation of shape is the same with fi-score\n",
    "print(recall,recall.shape)"
   ]
  },
  {
   "cell_type": "code",
   "execution_count": 35,
   "id": "8ce7df52",
   "metadata": {},
   "outputs": [
    {
     "name": "stdout",
     "output_type": "stream",
     "text": [
      "[1.         0.33333333 0.         1.        ] (4,)\n",
      "[1.         0.33333333 0.         1.        ] (4,)\n"
     ]
    }
   ],
   "source": [
    "from sklearn.metrics import r2_score\n",
    "import numpy as np\n",
    "y_true = np.array([1,2,2,3,4,1,2,3,1])\n",
    "y_pred_class = np.array([1,2,1,2,4,1,1,4,1])\n",
    "r2 = r2_score(y_true, y_pred_class)\n",
    "print(recall,recall.shape)\n",
    "r2 = r2_score(y_pred_class, y_true)\n",
    "print(recall,recall.shape)"
   ]
  },
  {
   "cell_type": "code",
   "execution_count": 39,
   "id": "2be4f11e",
   "metadata": {},
   "outputs": [
    {
     "name": "stdout",
     "output_type": "stream",
     "text": [
      "[False False  True  True False False  True  True False]\n",
      "4\n"
     ]
    }
   ],
   "source": [
    "import numpy as np\n",
    "target = np.array([1,2,2,3,4,1,2,3,1])\n",
    "prediction = np.array([1,2,1,2,4,1,1,4,1])\n",
    "whatever = (np.abs(prediction- target) > 0.33333)\n",
    "summation = np.sum(np.abs(prediction- target) > 0.33333)\n",
    "print(whatever)\n",
    "print(summation)"
   ]
  },
  {
   "cell_type": "code",
   "execution_count": 2,
   "id": "f01355e2",
   "metadata": {},
   "outputs": [],
   "source": [
    "import json\n",
    " \n",
    "# Data to be written\n",
    "dictionary = {\n",
    "    \"ber\": 0.0004,\n",
    "    \"mae\": 0.23,\n",
    "    \"gpu\": \"cuda0\",\n",
    "}\n",
    " \n",
    "with open(\"watever.json\", \"w\") as outfile:\n",
    "    json.dump(dictionary, outfile)"
   ]
  },
  {
   "cell_type": "code",
   "execution_count": 54,
   "id": "044a7b60",
   "metadata": {},
   "outputs": [
    {
     "name": "stdout",
     "output_type": "stream",
     "text": [
      "<class 'torch.Tensor'>\n",
      "<class 'dict'>\n",
      "{11: 3.0, 22: 2, 33: 3}\n"
     ]
    }
   ],
   "source": [
    "import json\n",
    "import os\n",
    "import torch\n",
    "import numpy\n",
    "# dict1 = {'11':1, '22':2, '33':3}\n",
    "a = torch.Tensor([3])\n",
    "print(type(a))\n",
    "dict1 = {11:a, 22:2, 33:3}\n",
    "print(type(dict1))\n",
    "dict_out = {}\n",
    "for key,value in dict1.items():\n",
    "    if isinstance(value, torch.Tensor):\n",
    "        value = value.tolist()[0]\n",
    "    dict_out[key] = value\n",
    "path = os.path.join('./record',\"output.json\")\n",
    "with open(path, \"a\") as outfile:\n",
    "    json.dump(dict_out, outfile)\n",
    "print(dict_out)"
   ]
  },
  {
   "cell_type": "code",
   "execution_count": 68,
   "id": "f181fd18",
   "metadata": {},
   "outputs": [
    {
     "name": "stdout",
     "output_type": "stream",
     "text": [
      "<class 'dict'>\n"
     ]
    },
    {
     "ename": "KeyError",
     "evalue": "'asd'",
     "output_type": "error",
     "traceback": [
      "\u001b[0;31m---------------------------------------------------------------------------\u001b[0m",
      "\u001b[0;31mKeyError\u001b[0m                                  Traceback (most recent call last)",
      "Input \u001b[0;32mIn [68]\u001b[0m, in \u001b[0;36m<cell line: 6>\u001b[0;34m()\u001b[0m\n\u001b[1;32m      4\u001b[0m d[\u001b[38;5;124m'\u001b[39m\u001b[38;5;124mdd\u001b[39m\u001b[38;5;124m'\u001b[39m] \u001b[38;5;241m=\u001b[39m \u001b[38;5;241m9\u001b[39m\n\u001b[1;32m      5\u001b[0m \u001b[38;5;28mprint\u001b[39m(\u001b[38;5;28mtype\u001b[39m(d))\n\u001b[0;32m----> 6\u001b[0m \u001b[38;5;28mprint\u001b[39m(\u001b[43md\u001b[49m\u001b[43m[\u001b[49m\u001b[38;5;124;43m'\u001b[39;49m\u001b[38;5;124;43masd\u001b[39;49m\u001b[38;5;124;43m'\u001b[39;49m\u001b[43m]\u001b[49m)\n",
      "\u001b[0;31mKeyError\u001b[0m: 'asd'"
     ]
    }
   ],
   "source": [
    "a = 11\n",
    "dd = {a:1, 22:2, 33:3}\n",
    "d = {key:value for key,value in dd.items()}\n",
    "d['dd'] = 9\n",
    "print(type(d))\n",
    "print(d['asd'])"
   ]
  },
  {
   "cell_type": "code",
   "execution_count": 82,
   "id": "afe1be99",
   "metadata": {},
   "outputs": [],
   "source": [
    "import pandas as pd\n",
    "import os\n",
    "\n",
    "path = 'data.csv'\n",
    "\n",
    "asd = 0\n",
    "sdf = 1\n",
    "columns_lst = ['asd', 'sdf']\n",
    "\n",
    "if not os.path.exists(path):\n",
    "    df = pd.DataFrame(None,columns=columns_lst)\n",
    "    df.to_csv(path,index=False)\n",
    "\n",
    "df1 = pd.DataFrame([[\"0.0fasw3\",\"0.933\"]], columns=columns_lst)\n",
    "df1.to_csv(path,index=False,header=False,mode='a')"
   ]
  },
  {
   "cell_type": "code",
   "execution_count": 88,
   "id": "7337e78e",
   "metadata": {},
   "outputs": [
    {
     "name": "stdout",
     "output_type": "stream",
     "text": [
      "        asd    sdf\n",
      "0  0.0fasw3  0.933\n",
      "1  0.0fasw3  0.933\n",
      "2  0.0fasw3  0.933\n",
      "3  0.0fasw3  0.933\n",
      "4  0.0fasw3  0.933 <class 'pandas.core.frame.DataFrame'>\n",
      "\n",
      "        asd    sdf\n",
      "0  0.0fasw3  0.933\n",
      "1  0.0fasw3  0.933\n",
      "3  0.0fasw3  0.933\n",
      "4  0.0fasw3  0.933\n",
      "\n",
      "<class 'str'>\n",
      "<class 'str'>\n",
      "<class 'str'>\n",
      "<class 'str'>\n",
      "<class 'str'>\n"
     ]
    }
   ],
   "source": [
    "# delete last row of csv file\n",
    "path = 'data.csv'\n",
    "df = pd.read_csv(path)\n",
    "print(df, type(df))\n",
    "print()\n",
    "df1 = df.iloc[:2]\n",
    "df2 = df.iloc[3:]\n",
    "df3 = pd.concat([df1,df2])\n",
    "print(df3)\n",
    "print()\n",
    "\n",
    "for i,d in enumerate(df.iterrows()):\n",
    "    print(type(d[1]['asd']))"
   ]
  },
  {
   "cell_type": "code",
   "execution_count": 64,
   "id": "a931d482",
   "metadata": {},
   "outputs": [
    {
     "name": "stdout",
     "output_type": "stream",
     "text": [
      "   Unnamed: 0       asd    sdf\n",
      "0         new  0.0fasw3  0.933\n",
      "1         old  0.0fasw3  0.933\n",
      "2         new  0.0fasw3  0.933\n",
      "3         old  0.0fasw3  0.933\n",
      "4         new  0.0fasw3  0.933\n",
      "5         old  0.0fasw3  0.933\n",
      "6    bilibili  0.0fasw3  0.933\n",
      "7          qq  0.0fasw3  0.933\n",
      "8         new  0.0fasw3  0.933\n",
      "9         old  0.0fasw3  0.933\n",
      "10   bilibili  0.0fasw3  0.933\n",
      "11         qq  0.0fasw3  0.933\n",
      "12        NaN     0.023  0.933\n",
      "13        NaN     0.023  0.933\n",
      "   Unnamed: 0       asd    sdf\n",
      "0         new  0.0fasw3  0.933\n",
      "1         old  0.0fasw3  0.933\n",
      "2         new  0.0fasw3  0.933\n",
      "3         old  0.0fasw3  0.933\n",
      "4         new  0.0fasw3  0.933\n",
      "5         old  0.0fasw3  0.933\n",
      "6    bilibili  0.0fasw3  0.933\n",
      "7          qq  0.0fasw3  0.933\n",
      "8         new  0.0fasw3  0.933\n",
      "9         old  0.0fasw3  0.933\n",
      "10   bilibili  0.0fasw3  0.933\n",
      "11         qq  0.0fasw3  0.933\n",
      "12        NaN     0.023  0.933\n",
      "13        NaN     0.023  0.933\n",
      "0         NaN     0.023  0.933\n"
     ]
    }
   ],
   "source": [
    "# find a specific line\n",
    "path = 'data.csv'\n",
    "df = pd.read_csv(path)\n",
    "print(df)\n",
    "df1 = pd.DataFrame([[\"0.023\",\"0.933\"]], columns=columns_lst)\n",
    "df = pd.concat([df,df1])\n",
    "print(df)\n",
    "df.to_csv(path,index=False)"
   ]
  },
  {
   "cell_type": "code",
   "execution_count": 73,
   "id": "7b005902",
   "metadata": {},
   "outputs": [
    {
     "name": "stdout",
     "output_type": "stream",
     "text": [
      "     asd    sdf\n",
      "0  0.002  0.998\n",
      "1  0.002  0.998\n",
      "2  0.002  0.998\n",
      "     asd    sdf\n",
      "0  0.002  0.998\n",
      "1  0.002  0.998\n"
     ]
    }
   ],
   "source": [
    "# delete last row of csv file\n",
    "path = 'data.csv'\n",
    "df = pd.read_csv(path)\n",
    "print(df)\n",
    "df = df.iloc[:-1]\n",
    "print(df)\n",
    "df.to_csv(path,index=False)"
   ]
  },
  {
   "cell_type": "code",
   "execution_count": 116,
   "id": "ef3ac945",
   "metadata": {},
   "outputs": [
    {
     "name": "stdout",
     "output_type": "stream",
     "text": [
      "<class 'pandas.core.frame.DataFrame'>\n",
      "False\n",
      "0    False\n",
      "Name: asd, dtype: bool\n"
     ]
    }
   ],
   "source": [
    "# find a specific line\n",
    "path = 'data.csv'\n",
    "df = pd.read_csv(path)\n",
    "print(type(df))\n",
    "print(df.empty)\n",
    "\n",
    "df = df['asd'].iloc[:-1]\n",
    "print(df == False)"
   ]
  },
  {
   "cell_type": "code",
   "execution_count": 12,
   "id": "f41d5beb",
   "metadata": {},
   "outputs": [
    {
     "name": "stdout",
     "output_type": "stream",
     "text": [
      "sdf    0.933\n",
      "Name: 0.0qw3, dtype: float64\n"
     ]
    }
   ],
   "source": [
    "import pandas as pd\n",
    "# find a specific line\n",
    "path = 'data.csv'\n",
    "df = pd.read_csv(path, index_col =\"asd\")\n",
    "# print(df)\n",
    "print(df.loc['0.0qw3'])\n"
   ]
  },
  {
   "cell_type": "code",
   "execution_count": 52,
   "id": "6cb51946",
   "metadata": {},
   "outputs": [
    {
     "name": "stdout",
     "output_type": "stream",
     "text": [
      "[12, 11, 22, 33]\n"
     ]
    }
   ],
   "source": [
    "a = [12]\n",
    "b = {11:a, 22:2, 33:3}\n",
    "bb = list(k for k in b)\n",
    "print(a+bb)"
   ]
  },
  {
   "cell_type": "code",
   "execution_count": 120,
   "id": "dcbb3279",
   "metadata": {},
   "outputs": [
    {
     "name": "stdout",
     "output_type": "stream",
     "text": [
      "{1: 2, 2: 3, 4: 5, 7: 6}\n"
     ]
    }
   ],
   "source": [
    "a = {1:2,2:3}\n",
    "b = {4:5,7:6}\n",
    "a.update(b)\n",
    "print(a)"
   ]
  },
  {
   "cell_type": "code",
   "execution_count": 4,
   "id": "34f287dd",
   "metadata": {},
   "outputs": [
    {
     "name": "stdout",
     "output_type": "stream",
     "text": [
      "tensor([[-0.8557,  2.9463,  1.3732,  0.8265, -1.2170, -1.7125, -1.3309,  0.9196,\n",
      "          0.6638, -1.2524, -1.6385,  0.6368, -1.2392, -0.8258, -0.4717, -1.4345,\n",
      "          1.6966,  0.5838],\n",
      "        [-1.1421,  0.3442,  0.4735,  1.3267, -0.3638,  1.4131,  1.3017, -0.5808,\n",
      "          0.7761, -1.0341,  0.5279, -0.6067, -0.4592, -1.6457, -0.4595, -1.0897,\n",
      "         -0.4757, -0.2247]])\n",
      "tensor([[ 2.9463,  2.9463,  0.8265,  0.9196,  0.9196,  0.6368,  0.6368, -0.4717,\n",
      "          1.6966],\n",
      "        [ 0.3442,  1.3267,  1.4131,  1.4131,  0.7761,  0.5279, -0.4592, -0.4595,\n",
      "         -0.2247]]) torch.Size([2, 9])\n"
     ]
    }
   ],
   "source": [
    "import numpy as np\n",
    "import torch\n",
    "import torch.nn as nn\n",
    "# inp = torch.randint(0,20,(1,3,4))\n",
    "inp = torch.randn(2,18)\n",
    "print(inp)\n",
    "maxP = nn.MaxPool1d(kernel_size=3,stride=2,padding=1)\n",
    "out = maxP(inp)\n",
    "print(out,out.shape)"
   ]
  },
  {
   "cell_type": "code",
   "execution_count": 5,
   "id": "c95acbf0",
   "metadata": {},
   "outputs": [
    {
     "name": "stdout",
     "output_type": "stream",
     "text": [
      "9\n"
     ]
    }
   ],
   "source": [
    "a = [1,2,2,4]\n",
    "print(sum(a))"
   ]
  },
  {
   "cell_type": "code",
   "execution_count": 3,
   "id": "4e768a78",
   "metadata": {},
   "outputs": [
    {
     "name": "stdout",
     "output_type": "stream",
     "text": [
      "1 11\n",
      "2 22\n",
      "3 33\n"
     ]
    }
   ],
   "source": [
    "dict_ss = {1:11,2:22,3:33}\n",
    "for (i,j) in dict_ss.items():\n",
    "    print(i,j)"
   ]
  },
  {
   "cell_type": "code",
   "execution_count": 17,
   "id": "b15d022d",
   "metadata": {},
   "outputs": [
    {
     "name": "stdout",
     "output_type": "stream",
     "text": [
      "1.0000 2 3 4 5 6 7\n"
     ]
    }
   ],
   "source": [
    "dd = dict(abs_rel=1, rmse=2, rmse_log=3,sq_rel=4, torch_rmse=5, mape=6, r2=7)\n",
    "aa = (v for k,v in dd.items())\n",
    "print(\"{abs_rel:5.4f} {rmse} {rmse_log} {sq_rel} {torch_rmse} {mape} {r2}\".format(**dd))"
   ]
  },
  {
   "cell_type": "code",
   "execution_count": 5,
   "id": "5ee4c19a",
   "metadata": {},
   "outputs": [
    {
     "name": "stdout",
     "output_type": "stream",
     "text": [
      "[ 1  2  3  4  5  6  7  8  9 10 11 12]\n",
      "[[ 1  2  3  4]\n",
      " [ 5  6  7  8]\n",
      " [ 9 10 11 12]]\n"
     ]
    }
   ],
   "source": [
    "import numpy as np\n",
    "import torch\n",
    "a = np.arange(1,13,1)\n",
    "print(a)\n",
    "a = np.arange(1,13,1).reshape(3,4)\n",
    "print(a)"
   ]
  },
  {
   "cell_type": "code",
   "execution_count": 9,
   "id": "4c65fcbf",
   "metadata": {},
   "outputs": [
    {
     "name": "stdout",
     "output_type": "stream",
     "text": [
      "(1, 3, 4)\n",
      "[[1 1 1 1 2 2 2 2 3 3 3 3]] (1, 12)\n"
     ]
    }
   ],
   "source": [
    "b = np.array([[\n",
    "    [1,1,1,1],\n",
    "    [2,2,2,2],\n",
    "    [3,3,3,3]\n",
    "]])\n",
    "print(b.shape)\n",
    "b = b.reshape(1,-1)\n",
    "print(b, b.shape)"
   ]
  },
  {
   "cell_type": "code",
   "execution_count": null,
   "id": "214e8220",
   "metadata": {},
   "outputs": [],
   "source": []
  }
 ],
 "metadata": {
  "kernelspec": {
   "display_name": "kiglis",
   "language": "python",
   "name": "kiglis"
  },
  "language_info": {
   "codemirror_mode": {
    "name": "ipython",
    "version": 3
   },
   "file_extension": ".py",
   "mimetype": "text/x-python",
   "name": "python",
   "nbconvert_exporter": "python",
   "pygments_lexer": "ipython3",
   "version": "3.10.9"
  },
  "varInspector": {
   "cols": {
    "lenName": 16,
    "lenType": 16,
    "lenVar": 40
   },
   "kernels_config": {
    "python": {
     "delete_cmd_postfix": "",
     "delete_cmd_prefix": "del ",
     "library": "var_list.py",
     "varRefreshCmd": "print(var_dic_list())"
    },
    "r": {
     "delete_cmd_postfix": ") ",
     "delete_cmd_prefix": "rm(",
     "library": "var_list.r",
     "varRefreshCmd": "cat(var_dic_list()) "
    }
   },
   "types_to_exclude": [
    "module",
    "function",
    "builtin_function_or_method",
    "instance",
    "_Feature"
   ],
   "window_display": false
  }
 },
 "nbformat": 4,
 "nbformat_minor": 5
}
