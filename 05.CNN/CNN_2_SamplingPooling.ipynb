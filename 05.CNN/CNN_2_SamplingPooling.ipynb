{
 "cells": [
  {
   "cell_type": "code",
   "execution_count": 7,
   "id": "0d4204ab",
   "metadata": {},
   "outputs": [],
   "source": [
    "import torch\n",
    "import torch.nn as nn\n",
    "import torch.nn.functional as F\n",
    "# 1 sample with 3 channel with shape od 28x28\n",
    "inp = torch.randn(1,3,28,28)"
   ]
  },
  {
   "cell_type": "markdown",
   "id": "cd084f25",
   "metadata": {},
   "source": [
    "## Sampling"
   ]
  },
  {
   "cell_type": "code",
   "execution_count": 16,
   "id": "e6e44911",
   "metadata": {},
   "outputs": [
    {
     "name": "stdout",
     "output_type": "stream",
     "text": [
      "shape of original input: torch.Size([1, 3, 28, 28])\n",
      "shape of downsampled output: torch.Size([1, 3, 14, 14])\n"
     ]
    }
   ],
   "source": [
    "'''Downsampling'''\n",
    "# downsample with step of 2\n",
    "downsam_out = inp[:,:,::2,::2]\n",
    "print('shape of original input: {}'.format(inp.shape))\n",
    "print('shape of downsampled output: {}'.format(downsam_out.shape))"
   ]
  },
  {
   "cell_type": "code",
   "execution_count": 20,
   "id": "42e2a8db",
   "metadata": {},
   "outputs": [
    {
     "name": "stdout",
     "output_type": "stream",
     "text": [
      "shape of original input: torch.Size([1, 3, 28, 28])\n",
      "shape of 2-time upsampled output: torch.Size([1, 3, 56, 56])\n",
      "shape of 3-time upsampled output: torch.Size([1, 3, 84, 84])\n"
     ]
    }
   ],
   "source": [
    "'''Upsampling'''\n",
    "# attention:\n",
    "# upsampling has only method 'F.interpolate()' to use, no class from nn-Module\n",
    "# torch.nn.functional.interpolate(input, size=None, scale_factor=None, mode='nearest')\n",
    "# check: https://pytorch.org/docs/stable/generated/torch.nn.functional.interpolate.html?highlight=interpolate#torch.nn.functional.interpolate\n",
    "upsam_out1 = F.interpolate(input=inp,scale_factor=2,mode='nearest')\n",
    "upsam_out2 = F.interpolate(input=inp,scale_factor=3,mode='nearest')\n",
    "print('shape of original input: {}'.format(inp.shape))\n",
    "print('shape of 2-time upsampled output: {}'.format(upsam_out1.shape))\n",
    "print('shape of 3-time upsampled output: {}'.format(upsam_out2.shape))"
   ]
  },
  {
   "cell_type": "markdown",
   "id": "b6dd4ae5",
   "metadata": {},
   "source": [
    "## Pooling"
   ]
  },
  {
   "cell_type": "code",
   "execution_count": 14,
   "id": "6ab88ca8",
   "metadata": {},
   "outputs": [
    {
     "name": "stdout",
     "output_type": "stream",
     "text": [
      "----------------------------------------------------------------------------\n",
      "deploy class: nn.MaxPool2d\n",
      "shape of original input: torch.Size([1, 3, 28, 28])\n",
      "shape of output after Max-Pooling layer: torch.Size([1, 3, 14, 14])\n",
      "----------------------------------------------------------------------------\n",
      "deploy method: F.max_pool2d\n",
      "shape of original input: torch.Size([1, 3, 28, 28])\n",
      "shape of output after Max-Pooling layer: torch.Size([1, 3, 14, 14])\n"
     ]
    }
   ],
   "source": [
    "'''Max-Pooling'''\n",
    "\n",
    "print('----------------------------------------------------------------------------')\n",
    "print('deploy class: nn.MaxPool2d')\n",
    "# torch.nn.MaxPool2d(kernel_size, stride=None, padding=0, dilation=1)\n",
    "# check: https://pytorch.org/docs/stable/generated/torch.nn.MaxPool2d.html\n",
    "maxpool_layer = nn.MaxPool2d(kernel_size=2, stride=2)\n",
    "maxpool_out = maxpool_layer(inp)\n",
    "print('shape of original input: {}'.format(inp.shape))\n",
    "print('shape of output after Max-Pooling layer: {}'.format(maxpool_out.shape))\n",
    "\n",
    "print('----------------------------------------------------------------------------')\n",
    "print('deploy method: F.max_pool2d')\n",
    "# torch.nn.functional.max_pool2d(input, kernel_size, stride=None, padding=0, dilation=1)\n",
    "# check: https://pytorch.org/docs/stable/generated/torch.nn.functional.max_pool2d.html?highlight=max_pool2d#torch.nn.functional.max_pool2d\n",
    "maxpool_out = F.max_pool2d(input=inp,kernel_size=2,stride=2)\n",
    "print('shape of original input: {}'.format(inp.shape))\n",
    "print('shape of output after Max-Pooling layer: {}'.format(maxpool_out.shape))"
   ]
  },
  {
   "cell_type": "code",
   "execution_count": 15,
   "id": "075cec9b",
   "metadata": {},
   "outputs": [
    {
     "name": "stdout",
     "output_type": "stream",
     "text": [
      "----------------------------------------------------------------------------\n",
      "deploy class: nn.AvgPool2d\n",
      "shape of original input: torch.Size([1, 3, 28, 28])\n",
      "shape of output after Average-Pooling layer: torch.Size([1, 3, 14, 14])\n",
      "----------------------------------------------------------------------------\n",
      "deploy method: F.avg_pool2d\n",
      "shape of original input: torch.Size([1, 3, 28, 28])\n",
      "shape of output after Average-Pooling layer: torch.Size([1, 3, 14, 14])\n"
     ]
    }
   ],
   "source": [
    "'''Average-Pooling'''\n",
    "\n",
    "print('----------------------------------------------------------------------------')\n",
    "print('deploy class: nn.AvgPool2d')\n",
    "# torch.nn.AvgPool2d(kernel_size, stride=None, padding=0)\n",
    "# check: https://pytorch.org/docs/stable/generated/torch.nn.AvgPool2d.html?highlight=avgpool2d#torch.nn.AvgPool2d\n",
    "avgpool_layer = nn.AvgPool2d(kernel_size=2, stride=2)\n",
    "avgpool_out = avgpool_layer(inp)\n",
    "print('shape of original input: {}'.format(inp.shape))\n",
    "print('shape of output after Average-Pooling layer: {}'.format(avgpool_out.shape))\n",
    "\n",
    "print('----------------------------------------------------------------------------')\n",
    "print('deploy method: F.avg_pool2d')\n",
    "# torch.nn.functional.avg_pool2d(input, kernel_size, stride=None, padding=0)\n",
    "# check: https://pytorch.org/docs/stable/generated/torch.nn.functional.avg_pool2d.html?highlight=avg_pool2d#torch.nn.functional.avg_pool2d2d\n",
    "avgpool_out = F.avg_pool2d(input=inp,kernel_size=2,stride=2)\n",
    "print('shape of original input: {}'.format(inp.shape))\n",
    "print('shape of output after Average-Pooling layer: {}'.format(avgpool_out.shape))"
   ]
  },
  {
   "cell_type": "code",
   "execution_count": null,
   "id": "fc421c6f",
   "metadata": {},
   "outputs": [],
   "source": []
  }
 ],
 "metadata": {
  "kernelspec": {
   "display_name": "Python 3 (ipykernel)",
   "language": "python",
   "name": "python3"
  },
  "language_info": {
   "codemirror_mode": {
    "name": "ipython",
    "version": 3
   },
   "file_extension": ".py",
   "mimetype": "text/x-python",
   "name": "python",
   "nbconvert_exporter": "python",
   "pygments_lexer": "ipython3",
   "version": "3.9.12"
  }
 },
 "nbformat": 4,
 "nbformat_minor": 5
}
